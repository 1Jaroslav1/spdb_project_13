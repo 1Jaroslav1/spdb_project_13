{
 "cells": [
  {
   "cell_type": "code",
   "execution_count": 29,
   "metadata": {
    "collapsed": true,
    "ExecuteTime": {
     "end_time": "2024-05-24T20:02:23.207820Z",
     "start_time": "2024-05-24T20:02:23.160821400Z"
    }
   },
   "outputs": [],
   "source": [
    "import plotly.graph_objects as go\n",
    "import requests\n",
    "import pandas as pd\n",
    "import base64\n",
    "from xml.dom.minidom import parseString\n",
    "import plotly.express as px\n",
    "from pydantic import BaseModel, parse_obj_as\n",
    "from typing import List, Optional, Dict\n",
    "import json\n",
    "import logging"
   ]
  },
  {
   "cell_type": "code",
   "execution_count": 59,
   "outputs": [],
   "source": [
    "def fetch_flight_data():\n",
    "    # url = \"https://aviation-edge.com/v2/public/flights?key=API_KEY&depIata=MAD\"\n",
    "    # response = requests.get(url)\n",
    "    # if response.status_code == 200:\n",
    "    #     flights = response.json()\n",
    "    #     return flights\n",
    "    # else:\n",
    "    #     return []\n",
    "    return [\n",
    "  {\n",
    "    \"aircraft\": {\n",
    "      \"iataCode\": \"A20N\",\n",
    "      \"icao24\": \"46B8AA\",\n",
    "      \"icaoCode\": \"A20N\",\n",
    "      \"regNumber\": \"SX-NEJ\"\n",
    "    },\n",
    "    \"airline\": {\n",
    "      \"iataCode\": \"A3\",\n",
    "      \"icaoCode\": \"AEE\"\n",
    "    },\n",
    "    \"arrival\": {\n",
    "      \"iataCode\": \"ATH\",\n",
    "      \"icaoCode\": \"LGAV\"\n",
    "    },\n",
    "    \"departure\": {\n",
    "      \"iataCode\": \"BER\",\n",
    "      \"icaoCode\": \"EDDB\"\n",
    "    },\n",
    "    \"flight\": {\n",
    "      \"iataNumber\": \"A3823\",\n",
    "      \"icaoNumber\": \"AEE823\",\n",
    "      \"number\": \"823\"\n",
    "    },\n",
    "    \"geography\": {\n",
    "      \"altitude\": 5638.8,\n",
    "      \"direction\": 72,\n",
    "      \"latitude\": 52.5794,\n",
    "      \"longitude\": 13.8367\n",
    "    },\n",
    "    \"speed\": {\n",
    "      \"horizontal\": 666.72,\n",
    "      \"isGround\": 0,\n",
    "      \"vspeed\": 0\n",
    "    },\n",
    "    \"status\": \"en-route\",\n",
    "    \"system\": {\n",
    "      \"squawk\": \"null\",\n",
    "      \"updated\": 1716576622\n",
    "    }\n",
    "  },\n",
    "  {\n",
    "    \"aircraft\": {\n",
    "      \"iataCode\": \"BCS3\",\n",
    "      \"icao24\": \"502D29\",\n",
    "      \"icaoCode\": \"BCS3\",\n",
    "      \"regNumber\": \"YL-AAY\"\n",
    "    },\n",
    "    \"airline\": {\n",
    "      \"iataCode\": \"BT\",\n",
    "      \"icaoCode\": \"BTI\"\n",
    "    },\n",
    "    \"arrival\": {\n",
    "      \"iataCode\": \"RIX\",\n",
    "      \"icaoCode\": \"EVRA\"\n",
    "    },\n",
    "    \"departure\": {\n",
    "      \"iataCode\": \"BER\",\n",
    "      \"icaoCode\": \"EDDB\"\n",
    "    },\n",
    "    \"flight\": {\n",
    "      \"iataNumber\": \"BT214\",\n",
    "      \"icaoNumber\": \"BTI4UJ\",\n",
    "      \"number\": \"214\"\n",
    "    },\n",
    "    \"geography\": {\n",
    "      \"altitude\": 8839.2,\n",
    "      \"direction\": 35,\n",
    "      \"latitude\": 55.219,\n",
    "      \"longitude\": 16.536\n",
    "    },\n",
    "    \"speed\": {\n",
    "      \"horizontal\": 837.104,\n",
    "      \"isGround\": 0,\n",
    "      \"vspeed\": 0\n",
    "    },\n",
    "    \"status\": \"en-route\",\n",
    "    \"system\": {\n",
    "      \"squawk\": \"null\",\n",
    "      \"updated\": 1716576684\n",
    "    }\n",
    "  },\n",
    "  {\n",
    "    \"aircraft\": {\n",
    "      \"iataCode\": \"A319\",\n",
    "      \"icao24\": \"3C48EE\",\n",
    "      \"icaoCode\": \"A319\",\n",
    "      \"regNumber\": \"D-ABGN\"\n",
    "    },\n",
    "    \"airline\": {\n",
    "      \"iataCode\": \"EW\",\n",
    "      \"icaoCode\": \"EWG\"\n",
    "    },\n",
    "    \"arrival\": {\n",
    "      \"iataCode\": \"CGN\",\n",
    "      \"icaoCode\": \"EDDK\"\n",
    "    },\n",
    "    \"departure\": {\n",
    "      \"iataCode\": \"BER\",\n",
    "      \"icaoCode\": \"EDDB\"\n",
    "    },\n",
    "    \"flight\": {\n",
    "      \"iataNumber\": \"EW5221\",\n",
    "      \"icaoNumber\": \"EWG5221\",\n",
    "      \"number\": \"5221\"\n",
    "    },\n",
    "    \"geography\": {\n",
    "      \"altitude\": 0,\n",
    "      \"direction\": 53,\n",
    "      \"latitude\": 50.877,\n",
    "      \"longitude\": 7.1221\n",
    "    },\n",
    "    \"speed\": {\n",
    "      \"horizontal\": 0,\n",
    "      \"isGround\": 1,\n",
    "      \"vspeed\": 0\n",
    "    },\n",
    "    \"status\": \"landed\",\n",
    "    \"system\": {\n",
    "      \"squawk\": \"null\",\n",
    "      \"updated\": 1716575996\n",
    "    }\n",
    "  },\n",
    "  {\n",
    "    \"aircraft\": {\n",
    "      \"iataCode\": \"A319\",\n",
    "      \"icao24\": \"400942\",\n",
    "      \"icaoCode\": \"A319\",\n",
    "      \"regNumber\": \"G-EUOF\"\n",
    "    },\n",
    "    \"airline\": {\n",
    "      \"iataCode\": \"BA\",\n",
    "      \"icaoCode\": \"BAW\"\n",
    "    },\n",
    "    \"arrival\": {\n",
    "      \"iataCode\": \"LHR\",\n",
    "      \"icaoCode\": \"EGLL\"\n",
    "    },\n",
    "    \"departure\": {\n",
    "      \"iataCode\": \"BER\",\n",
    "      \"icaoCode\": \"EDDB\"\n",
    "    },\n",
    "    \"flight\": {\n",
    "      \"iataNumber\": \"BA995\",\n",
    "      \"icaoNumber\": \"BAW9GM\",\n",
    "      \"number\": \"995\"\n",
    "    },\n",
    "    \"geography\": {\n",
    "      \"altitude\": 11582.4,\n",
    "      \"direction\": 266,\n",
    "      \"latitude\": 52.175,\n",
    "      \"longitude\": 8.1319\n",
    "    },\n",
    "    \"speed\": {\n",
    "      \"horizontal\": 879.7,\n",
    "      \"isGround\": 0,\n",
    "      \"vspeed\": 0\n",
    "    },\n",
    "    \"status\": \"en-route\",\n",
    "    \"system\": {\n",
    "      \"squawk\": \"null\",\n",
    "      \"updated\": 1716576547\n",
    "    }\n",
    "  },\n",
    "  {\n",
    "    \"aircraft\": {\n",
    "      \"iataCode\": \"A319\",\n",
    "      \"icao24\": \"3C6590\",\n",
    "      \"icaoCode\": \"A319\",\n",
    "      \"regNumber\": \"D-AILP\"\n",
    "    },\n",
    "    \"airline\": {\n",
    "      \"iataCode\": \"LH\",\n",
    "      \"icaoCode\": \"DLH\"\n",
    "    },\n",
    "    \"arrival\": {\n",
    "      \"iataCode\": \"MUC\",\n",
    "      \"icaoCode\": \"EDDM\"\n",
    "    },\n",
    "    \"departure\": {\n",
    "      \"iataCode\": \"BER\",\n",
    "      \"icaoCode\": \"EDDB\"\n",
    "    },\n",
    "    \"flight\": {\n",
    "      \"iataNumber\": \"LH1953\",\n",
    "      \"icaoNumber\": \"DLH2PF\",\n",
    "      \"number\": \"1953\"\n",
    "    },\n",
    "    \"geography\": {\n",
    "      \"altitude\": 6606.54,\n",
    "      \"direction\": 205,\n",
    "      \"latitude\": 49.3355,\n",
    "      \"longitude\": 12.9361\n",
    "    },\n",
    "    \"speed\": {\n",
    "      \"horizontal\": 659.312,\n",
    "      \"isGround\": 0,\n",
    "      \"vspeed\": 0\n",
    "    },\n",
    "    \"status\": \"en-route\",\n",
    "    \"system\": {\n",
    "      \"squawk\": \"null\",\n",
    "      \"updated\": 1716576630\n",
    "    }\n",
    "  },\n",
    "  {\n",
    "    \"aircraft\": {\n",
    "      \"iataCode\": \"A320\",\n",
    "      \"icao24\": \"3C6748\",\n",
    "      \"icaoCode\": \"A320\",\n",
    "      \"regNumber\": \"D-AIZH\"\n",
    "    },\n",
    "    \"airline\": {\n",
    "      \"iataCode\": \"LH\",\n",
    "      \"icaoCode\": \"DLH\"\n",
    "    },\n",
    "    \"arrival\": {\n",
    "      \"iataCode\": \"FRA\",\n",
    "      \"icaoCode\": \"EDDF\"\n",
    "    },\n",
    "    \"departure\": {\n",
    "      \"iataCode\": \"BER\",\n",
    "      \"icaoCode\": \"EDDB\"\n",
    "    },\n",
    "    \"flight\": {\n",
    "      \"iataNumber\": \"LH201\",\n",
    "      \"icaoNumber\": \"DLH201\",\n",
    "      \"number\": \"201\"\n",
    "    },\n",
    "    \"geography\": {\n",
    "      \"altitude\": 7315.2,\n",
    "      \"direction\": 231,\n",
    "      \"latitude\": 51.0455,\n",
    "      \"longitude\": 10.695\n",
    "    },\n",
    "    \"speed\": {\n",
    "      \"horizontal\": 890.812,\n",
    "      \"isGround\": 0,\n",
    "      \"vspeed\": 0\n",
    "    },\n",
    "    \"status\": \"en-route\",\n",
    "    \"system\": {\n",
    "      \"squawk\": \"null\",\n",
    "      \"updated\": 1716576620\n",
    "    }\n",
    "  },\n",
    "  {\n",
    "    \"aircraft\": {\n",
    "      \"iataCode\": \"A320\",\n",
    "      \"icao24\": \"3C674E\",\n",
    "      \"icaoCode\": \"A320\",\n",
    "      \"regNumber\": \"D-AIZN\"\n",
    "    },\n",
    "    \"airline\": {\n",
    "      \"iataCode\": \"LH\",\n",
    "      \"icaoCode\": \"DLH\"\n",
    "    },\n",
    "    \"arrival\": {\n",
    "      \"iataCode\": \"MUC\",\n",
    "      \"icaoCode\": \"EDDM\"\n",
    "    },\n",
    "    \"departure\": {\n",
    "      \"iataCode\": \"BER\",\n",
    "      \"icaoCode\": \"EDDB\"\n",
    "    },\n",
    "    \"flight\": {\n",
    "      \"iataNumber\": \"LH1949\",\n",
    "      \"icaoNumber\": \"DLH4CH\",\n",
    "      \"number\": \"1949\"\n",
    "    },\n",
    "    \"geography\": {\n",
    "      \"altitude\": 0,\n",
    "      \"direction\": 174,\n",
    "      \"latitude\": 48.3575,\n",
    "      \"longitude\": 11.794\n",
    "    },\n",
    "    \"speed\": {\n",
    "      \"horizontal\": 33.336,\n",
    "      \"isGround\": 1,\n",
    "      \"vspeed\": 0\n",
    "    },\n",
    "    \"status\": \"landed\",\n",
    "    \"system\": {\n",
    "      \"squawk\": \"null\",\n",
    "      \"updated\": 1716575877\n",
    "    }\n",
    "  },\n",
    "  {\n",
    "    \"aircraft\": {\n",
    "      \"iataCode\": \"A320\",\n",
    "      \"icao24\": \"4B9856\",\n",
    "      \"icaoCode\": \"A320\",\n",
    "      \"regNumber\": \"TC-FBV\"\n",
    "    },\n",
    "    \"airline\": {\n",
    "      \"iataCode\": \"FH\",\n",
    "      \"icaoCode\": \"FHY\"\n",
    "    },\n",
    "    \"arrival\": {\n",
    "      \"iataCode\": \"AYT\",\n",
    "      \"icaoCode\": \"LTAI\"\n",
    "    },\n",
    "    \"departure\": {\n",
    "      \"iataCode\": \"BER\",\n",
    "      \"icaoCode\": \"EDDB\"\n",
    "    },\n",
    "    \"flight\": {\n",
    "      \"iataNumber\": \"FH1282\",\n",
    "      \"icaoNumber\": \"FHY1282\",\n",
    "      \"number\": \"1282\"\n",
    "    },\n",
    "    \"geography\": {\n",
    "      \"altitude\": 10660.4,\n",
    "      \"direction\": 141,\n",
    "      \"latitude\": 43.692,\n",
    "      \"longitude\": 24.6531\n",
    "    },\n",
    "    \"speed\": {\n",
    "      \"horizontal\": 859.328,\n",
    "      \"isGround\": 0,\n",
    "      \"vspeed\": 0\n",
    "    },\n",
    "    \"status\": \"en-route\",\n",
    "    \"system\": {\n",
    "      \"squawk\": \"null\",\n",
    "      \"updated\": 1716576631\n",
    "    }\n",
    "  },\n",
    "  {\n",
    "    \"aircraft\": {\n",
    "      \"iataCode\": \"A21N\",\n",
    "      \"icao24\": \"3472C9\",\n",
    "      \"icaoCode\": \"A21N\",\n",
    "      \"regNumber\": \"EC-NUD\"\n",
    "    },\n",
    "    \"airline\": {\n",
    "      \"iataCode\": \"I2\",\n",
    "      \"icaoCode\": \"IBS\"\n",
    "    },\n",
    "    \"arrival\": {\n",
    "      \"iataCode\": \"MAD\",\n",
    "      \"icaoCode\": \"LEMD\"\n",
    "    },\n",
    "    \"departure\": {\n",
    "      \"iataCode\": \"BER\",\n",
    "      \"icaoCode\": \"EDDB\"\n",
    "    },\n",
    "    \"flight\": {\n",
    "      \"iataNumber\": \"IB3671\",\n",
    "      \"icaoNumber\": \"IBS3671\",\n",
    "      \"number\": \"3671\"\n",
    "    },\n",
    "    \"geography\": {\n",
    "      \"altitude\": 0,\n",
    "      \"direction\": 337,\n",
    "      \"latitude\": 52.3614,\n",
    "      \"longitude\": 13.5129\n",
    "    },\n",
    "    \"speed\": {\n",
    "      \"horizontal\": 0,\n",
    "      \"isGround\": 1,\n",
    "      \"vspeed\": 0\n",
    "    },\n",
    "    \"status\": \"started\",\n",
    "    \"system\": {\n",
    "      \"squawk\": \"null\",\n",
    "      \"updated\": 1716576624\n",
    "    }\n",
    "  },\n",
    "  {\n",
    "    \"aircraft\": {\n",
    "      \"iataCode\": \"B38M\",\n",
    "      \"icao24\": \"4CAC85\",\n",
    "      \"icaoCode\": \"B38M\",\n",
    "      \"regNumber\": \"EI-HGH\"\n",
    "    },\n",
    "    \"airline\": {\n",
    "      \"iataCode\": \"FR\",\n",
    "      \"icaoCode\": \"RYR\"\n",
    "    },\n",
    "    \"arrival\": {\n",
    "      \"iataCode\": \"PMI\",\n",
    "      \"icaoCode\": \"LEPA\"\n",
    "    },\n",
    "    \"departure\": {\n",
    "      \"iataCode\": \"BER\",\n",
    "      \"icaoCode\": \"EDDB\"\n",
    "    },\n",
    "    \"flight\": {\n",
    "      \"iataNumber\": \"FR226\",\n",
    "      \"icaoNumber\": \"RYR9TU\",\n",
    "      \"number\": \"226\"\n",
    "    },\n",
    "    \"geography\": {\n",
    "      \"altitude\": 11010.9,\n",
    "      \"direction\": 196,\n",
    "      \"latitude\": 50.8645,\n",
    "      \"longitude\": 11.0222\n",
    "    },\n",
    "    \"speed\": {\n",
    "      \"horizontal\": 816.732,\n",
    "      \"isGround\": 0,\n",
    "      \"vspeed\": 0\n",
    "    },\n",
    "    \"status\": \"en-route\",\n",
    "    \"system\": {\n",
    "      \"squawk\": \"null\",\n",
    "      \"updated\": 1716576624\n",
    "    }\n",
    "  },\n",
    "  {\n",
    "    \"aircraft\": {\n",
    "      \"iataCode\": \"A320\",\n",
    "      \"icao24\": \"4408DF\",\n",
    "      \"icaoCode\": \"A320\",\n",
    "      \"regNumber\": \"OE-LBZ\"\n",
    "    },\n",
    "    \"airline\": {\n",
    "      \"iataCode\": \"OS\",\n",
    "      \"icaoCode\": \"AUA\"\n",
    "    },\n",
    "    \"arrival\": {\n",
    "      \"iataCode\": \"VIE\",\n",
    "      \"icaoCode\": \"LOWW\"\n",
    "    },\n",
    "    \"departure\": {\n",
    "      \"iataCode\": \"BER\",\n",
    "      \"icaoCode\": \"EDDB\"\n",
    "    },\n",
    "    \"flight\": {\n",
    "      \"iataNumber\": \"OS236\",\n",
    "      \"icaoNumber\": \"AUA2JA\",\n",
    "      \"number\": \"236\"\n",
    "    },\n",
    "    \"geography\": {\n",
    "      \"altitude\": 0,\n",
    "      \"direction\": 70,\n",
    "      \"latitude\": 52.3622,\n",
    "      \"longitude\": 13.5072\n",
    "    },\n",
    "    \"speed\": {\n",
    "      \"horizontal\": 0,\n",
    "      \"isGround\": 1,\n",
    "      \"vspeed\": 0\n",
    "    },\n",
    "    \"status\": \"started\",\n",
    "    \"system\": {\n",
    "      \"squawk\": \"null\",\n",
    "      \"updated\": 1716576623\n",
    "    }\n",
    "  },\n",
    "  {\n",
    "    \"aircraft\": {\n",
    "      \"iataCode\": \"B738\",\n",
    "      \"icao24\": \"4D23FD\",\n",
    "      \"icaoCode\": \"B738\",\n",
    "      \"regNumber\": \"9H-QEU\"\n",
    "    },\n",
    "    \"airline\": {\n",
    "      \"iataCode\": \"FR\",\n",
    "      \"icaoCode\": \"RYR\"\n",
    "    },\n",
    "    \"arrival\": {\n",
    "      \"iataCode\": \"TLL\",\n",
    "      \"icaoCode\": \"EETN\"\n",
    "    },\n",
    "    \"departure\": {\n",
    "      \"iataCode\": \"BER\",\n",
    "      \"icaoCode\": \"EDDB\"\n",
    "    },\n",
    "    \"flight\": {\n",
    "      \"iataNumber\": \"FR2732\",\n",
    "      \"icaoNumber\": \"RYR2732\",\n",
    "      \"number\": \"2732\"\n",
    "    },\n",
    "    \"geography\": {\n",
    "      \"altitude\": 11277.6,\n",
    "      \"direction\": 46,\n",
    "      \"latitude\": 55.6263,\n",
    "      \"longitude\": 16.9279\n",
    "    },\n",
    "    \"speed\": {\n",
    "      \"horizontal\": 859.328,\n",
    "      \"isGround\": 0,\n",
    "      \"vspeed\": 0\n",
    "    },\n",
    "    \"status\": \"en-route\",\n",
    "    \"system\": {\n",
    "      \"squawk\": \"null\",\n",
    "      \"updated\": 1716576686\n",
    "    }\n",
    "  },\n",
    "  {\n",
    "    \"aircraft\": {\n",
    "      \"iataCode\": \"B738\",\n",
    "      \"icao24\": \"4D21EE\",\n",
    "      \"icaoCode\": \"B738\",\n",
    "      \"regNumber\": \"9H-QAF\"\n",
    "    },\n",
    "    \"airline\": {\n",
    "      \"iataCode\": \"FR\",\n",
    "      \"icaoCode\": \"RYR\"\n",
    "    },\n",
    "    \"arrival\": {\n",
    "      \"iataCode\": \"BGY\",\n",
    "      \"icaoCode\": \"LIME\"\n",
    "    },\n",
    "    \"departure\": {\n",
    "      \"iataCode\": \"BER\",\n",
    "      \"icaoCode\": \"EDDB\"\n",
    "    },\n",
    "    \"flight\": {\n",
    "      \"iataNumber\": \"FR3311\",\n",
    "      \"icaoNumber\": \"RYR15MU\",\n",
    "      \"number\": \"3311\"\n",
    "    },\n",
    "    \"geography\": {\n",
    "      \"altitude\": 3337.56,\n",
    "      \"direction\": 263,\n",
    "      \"latitude\": 45.6291,\n",
    "      \"longitude\": 10.3811\n",
    "    },\n",
    "    \"speed\": {\n",
    "      \"horizontal\": 448.184,\n",
    "      \"isGround\": 0,\n",
    "      \"vspeed\": 0\n",
    "    },\n",
    "    \"status\": \"en-route\",\n",
    "    \"system\": {\n",
    "      \"squawk\": \"null\",\n",
    "      \"updated\": 1716576631\n",
    "    }\n",
    "  },\n",
    "  {\n",
    "    \"aircraft\": {\n",
    "      \"iataCode\": \"E190\",\n",
    "      \"icao24\": \"461E15\",\n",
    "      \"icaoCode\": \"E190\",\n",
    "      \"regNumber\": \"OH-LKF\"\n",
    "    },\n",
    "    \"airline\": {\n",
    "      \"iataCode\": \"AY\",\n",
    "      \"icaoCode\": \"FIN\"\n",
    "    },\n",
    "    \"arrival\": {\n",
    "      \"iataCode\": \"HEL\",\n",
    "      \"icaoCode\": \"EFHK\"\n",
    "    },\n",
    "    \"departure\": {\n",
    "      \"iataCode\": \"BER\",\n",
    "      \"icaoCode\": \"EDDB\"\n",
    "    },\n",
    "    \"flight\": {\n",
    "      \"iataNumber\": \"AY1436\",\n",
    "      \"icaoNumber\": \"FIN9YA\",\n",
    "      \"number\": \"1436\"\n",
    "    },\n",
    "    \"geography\": {\n",
    "      \"altitude\": 11887.2,\n",
    "      \"direction\": 37,\n",
    "      \"latitude\": 57.0433,\n",
    "      \"longitude\": 18.3999\n",
    "    },\n",
    "    \"speed\": {\n",
    "      \"horizontal\": 855.624,\n",
    "      \"isGround\": 0,\n",
    "      \"vspeed\": 0\n",
    "    },\n",
    "    \"status\": \"en-route\",\n",
    "    \"system\": {\n",
    "      \"squawk\": \"null\",\n",
    "      \"updated\": 1716576686\n",
    "    }\n",
    "  },\n",
    "  {\n",
    "    \"aircraft\": {\n",
    "      \"iataCode\": \"A20N\",\n",
    "      \"icao24\": \"4D2023\",\n",
    "      \"icaoCode\": \"A20N\",\n",
    "      \"regNumber\": \"9H-ENB\"\n",
    "    },\n",
    "    \"airline\": {\n",
    "      \"iataCode\": \"EW\",\n",
    "      \"icaoCode\": \"EWG\"\n",
    "    },\n",
    "    \"arrival\": {\n",
    "      \"iataCode\": \"SZG\",\n",
    "      \"icaoCode\": \"LOWS\"\n",
    "    },\n",
    "    \"departure\": {\n",
    "      \"iataCode\": \"BER\",\n",
    "      \"icaoCode\": \"EDDB\"\n",
    "    },\n",
    "    \"flight\": {\n",
    "      \"iataNumber\": \"EW4343\",\n",
    "      \"icaoNumber\": \"EWG8UZ\",\n",
    "      \"number\": \"4343\"\n",
    "    },\n",
    "    \"geography\": {\n",
    "      \"altitude\": 0,\n",
    "      \"direction\": 281,\n",
    "      \"latitude\": 47.7909,\n",
    "      \"longitude\": 12.9995\n",
    "    },\n",
    "    \"speed\": {\n",
    "      \"horizontal\": 0,\n",
    "      \"isGround\": 1,\n",
    "      \"vspeed\": 0\n",
    "    },\n",
    "    \"status\": \"landed\",\n",
    "    \"system\": {\n",
    "      \"squawk\": \"null\",\n",
    "      \"updated\": 1716575987\n",
    "    }\n",
    "  },\n",
    "  {\n",
    "    \"aircraft\": {\n",
    "      \"iataCode\": \"A319\",\n",
    "      \"icao24\": \"4D2409\",\n",
    "      \"icaoCode\": \"A319\",\n",
    "      \"regNumber\": \"9H-EXQ\"\n",
    "    },\n",
    "    \"airline\": {\n",
    "      \"iataCode\": \"EW\",\n",
    "      \"icaoCode\": \"EWG\"\n",
    "    },\n",
    "    \"arrival\": {\n",
    "      \"iataCode\": \"DUS\",\n",
    "      \"icaoCode\": \"EDDL\"\n",
    "    },\n",
    "    \"departure\": {\n",
    "      \"iataCode\": \"BER\",\n",
    "      \"icaoCode\": \"EDDB\"\n",
    "    },\n",
    "    \"flight\": {\n",
    "      \"iataNumber\": \"EW9041\",\n",
    "      \"icaoNumber\": \"GWI10G\",\n",
    "      \"number\": \"9041\"\n",
    "    },\n",
    "    \"geography\": {\n",
    "      \"altitude\": 1897.38,\n",
    "      \"direction\": 232,\n",
    "      \"latitude\": 51.2875,\n",
    "      \"longitude\": 6.55\n",
    "    },\n",
    "    \"speed\": {\n",
    "      \"horizontal\": 520.412,\n",
    "      \"isGround\": 0,\n",
    "      \"vspeed\": 0\n",
    "    },\n",
    "    \"status\": \"en-route\",\n",
    "    \"system\": {\n",
    "      \"squawk\": \"null\",\n",
    "      \"updated\": 1716576546\n",
    "    }\n",
    "  },\n",
    "  {\n",
    "    \"aircraft\": {\n",
    "      \"iataCode\": \"A333\",\n",
    "      \"icao24\": \"781579\",\n",
    "      \"icaoCode\": \"A333\",\n",
    "      \"regNumber\": \"B-303Z\"\n",
    "    },\n",
    "    \"airline\": {\n",
    "      \"iataCode\": \"HU\",\n",
    "      \"icaoCode\": \"CHH\"\n",
    "    },\n",
    "    \"arrival\": {\n",
    "      \"iataCode\": \"PEK\",\n",
    "      \"icaoCode\": \"ZBAA\"\n",
    "    },\n",
    "    \"departure\": {\n",
    "      \"iataCode\": \"BER\",\n",
    "      \"icaoCode\": \"EDDB\"\n",
    "    },\n",
    "    \"flight\": {\n",
    "      \"iataNumber\": \"HU490\",\n",
    "      \"icaoNumber\": \"CHH490\",\n",
    "      \"number\": \"490\"\n",
    "    },\n",
    "    \"geography\": {\n",
    "      \"altitude\": 11917.7,\n",
    "      \"direction\": 126,\n",
    "      \"latitude\": 48.991,\n",
    "      \"longitude\": 102.534\n",
    "    },\n",
    "    \"speed\": {\n",
    "      \"horizontal\": 963.04,\n",
    "      \"isGround\": 0,\n",
    "      \"vspeed\": 0\n",
    "    },\n",
    "    \"status\": \"en-route\",\n",
    "    \"system\": {\n",
    "      \"squawk\": \"null\",\n",
    "      \"updated\": 1716576632\n",
    "    }\n",
    "  },\n",
    "  {\n",
    "    \"aircraft\": {\n",
    "      \"iataCode\": \"BCS3\",\n",
    "      \"icao24\": \"4B1800\",\n",
    "      \"icaoCode\": \"BCS3\",\n",
    "      \"regNumber\": \"HB-JCI\"\n",
    "    },\n",
    "    \"airline\": {\n",
    "      \"iataCode\": \"LX\",\n",
    "      \"icaoCode\": \"SWR\"\n",
    "    },\n",
    "    \"arrival\": {\n",
    "      \"iataCode\": \"ZRH\",\n",
    "      \"icaoCode\": \"LSZH\"\n",
    "    },\n",
    "    \"departure\": {\n",
    "      \"iataCode\": \"BER\",\n",
    "      \"icaoCode\": \"EDDB\"\n",
    "    },\n",
    "    \"flight\": {\n",
    "      \"iataNumber\": \"LX983\",\n",
    "      \"icaoNumber\": \"SWR6MZ\",\n",
    "      \"number\": \"983\"\n",
    "    },\n",
    "    \"geography\": {\n",
    "      \"altitude\": 0,\n",
    "      \"direction\": 340,\n",
    "      \"latitude\": 52.3653,\n",
    "      \"longitude\": 13.5027\n",
    "    },\n",
    "    \"speed\": {\n",
    "      \"horizontal\": 0,\n",
    "      \"isGround\": 1,\n",
    "      \"vspeed\": 0\n",
    "    },\n",
    "    \"status\": \"started\",\n",
    "    \"system\": {\n",
    "      \"squawk\": \"null\",\n",
    "      \"updated\": 1716576621\n",
    "    }\n",
    "  },\n",
    "  {\n",
    "    \"aircraft\": {\n",
    "      \"iataCode\": \"B789\",\n",
    "      \"icao24\": \"06A2F0\",\n",
    "      \"icaoCode\": \"B789\",\n",
    "      \"regNumber\": \"A7-BHM\"\n",
    "    },\n",
    "    \"airline\": {\n",
    "      \"iataCode\": \"QR\",\n",
    "      \"icaoCode\": \"QTR\"\n",
    "    },\n",
    "    \"arrival\": {\n",
    "      \"iataCode\": \"DOH\",\n",
    "      \"icaoCode\": \"OTHH\"\n",
    "    },\n",
    "    \"departure\": {\n",
    "      \"iataCode\": \"BER\",\n",
    "      \"icaoCode\": \"EDDB\"\n",
    "    },\n",
    "    \"flight\": {\n",
    "      \"iataNumber\": \"QR82\",\n",
    "      \"icaoNumber\": \"QTR8M\",\n",
    "      \"number\": \"82\"\n",
    "    },\n",
    "    \"geography\": {\n",
    "      \"altitude\": 11887.2,\n",
    "      \"direction\": 162,\n",
    "      \"latitude\": 33.655,\n",
    "      \"longitude\": 45.3776\n",
    "    },\n",
    "    \"speed\": {\n",
    "      \"horizontal\": 238.908,\n",
    "      \"isGround\": 0,\n",
    "      \"vspeed\": 0\n",
    "    },\n",
    "    \"status\": \"en-route\",\n",
    "    \"system\": {\n",
    "      \"squawk\": \"null\",\n",
    "      \"updated\": 1716576192\n",
    "    }\n",
    "  },\n",
    "  {\n",
    "    \"aircraft\": {\n",
    "      \"iataCode\": \"AT75\",\n",
    "      \"icao24\": \"4AB483\",\n",
    "      \"icaoCode\": \"AT75\",\n",
    "      \"regNumber\": \"SE-MDC\"\n",
    "    },\n",
    "    \"airline\": {\n",
    "      \"iataCode\": \"DX\",\n",
    "      \"icaoCode\": \"DTR\"\n",
    "    },\n",
    "    \"arrival\": {\n",
    "      \"iataCode\": \"SCN\",\n",
    "      \"icaoCode\": \"EDDR\"\n",
    "    },\n",
    "    \"departure\": {\n",
    "      \"iataCode\": \"BER\",\n",
    "      \"icaoCode\": \"EDDB\"\n",
    "    },\n",
    "    \"flight\": {\n",
    "      \"iataNumber\": \"DX126\",\n",
    "      \"icaoNumber\": \"DMS2LW\",\n",
    "      \"number\": \"126\"\n",
    "    },\n",
    "    \"geography\": {\n",
    "      \"altitude\": 2628.9,\n",
    "      \"direction\": 217,\n",
    "      \"latitude\": 52.2708,\n",
    "      \"longitude\": 13.0608\n",
    "    },\n",
    "    \"speed\": {\n",
    "      \"horizontal\": 357.436,\n",
    "      \"isGround\": 0,\n",
    "      \"vspeed\": 0\n",
    "    },\n",
    "    \"status\": \"en-route\",\n",
    "    \"system\": {\n",
    "      \"squawk\": \"null\",\n",
    "      \"updated\": 1716576622\n",
    "    }\n",
    "  }\n",
    "]"
   ],
   "metadata": {
    "collapsed": false,
    "ExecuteTime": {
     "end_time": "2024-05-30T09:15:29.569843200Z",
     "start_time": "2024-05-30T09:15:29.461844300Z"
    }
   }
  },
  {
   "cell_type": "code",
   "execution_count": 10,
   "outputs": [],
   "source": [
    "def update_flight_positions():\n",
    "    flights = fetch_flight_data()\n",
    "    if not flights:\n",
    "        print(\"No data retrieved.\")\n",
    "        return\n",
    "\n",
    "    # Flatten data into a DataFrame\n",
    "    df = pd.json_normalize(flights)\n",
    "\n",
    "    if not df.empty:\n",
    "        fig = px.scatter_geo(df, lat='geography.latitude', lon='geography.longitude',\n",
    "                             hover_name='flight.iataNumber',  # Correct reference to nested data\n",
    "                             projection=\"natural earth\",\n",
    "                             size_max=15)\n",
    "        fig.update_layout(title='Real-Time Flight Positions')\n",
    "        fig.show()"
   ],
   "metadata": {
    "collapsed": false,
    "ExecuteTime": {
     "end_time": "2024-05-24T19:24:54.848419300Z",
     "start_time": "2024-05-24T19:24:54.817379900Z"
    }
   }
  },
  {
   "cell_type": "code",
   "execution_count": 71,
   "outputs": [],
   "source": [
    "def update_flight():\n",
    "    flights = fetch_flight_data()\n",
    "    if not flights:\n",
    "        print(\"No data retrieved.\")\n",
    "        return\n",
    "\n",
    "    df = pd.json_normalize(flights)\n",
    "\n",
    "    if not df.empty:\n",
    "        fig = go.Figure(data=go.Scattergeo(\n",
    "            lon = df['geography.longitude'],\n",
    "            lat = df['geography.latitude'],\n",
    "            text = df['flight.iataNumber'],\n",
    "            marker = dict(\n",
    "                size = 10,\n",
    "                color = 'blue',\n",
    "                line_color='rgb(40,40,40)',\n",
    "                line_width=0.5,\n",
    "                sizemode = 'diameter'\n",
    "            )\n",
    "        ))\n",
    "\n",
    "        fig.update_geos(\n",
    "          visible=True,\n",
    "          projection_type=\"orthographic\",\n",
    "          scope=\"europe\",\n",
    "          showcountries=True,\n",
    "          countrycolor=\"Black\",\n",
    "          showsubunits=True, subunitcolor=\"Blue\",\n",
    "          showland=True,\n",
    "          landcolor=\"rgb(243, 243, 243)\",\n",
    "        )\n",
    "        fig.update_layout(\n",
    "            title='Real-Time Flight Positions',\n",
    "            margin={\"r\": 0, \"t\": 0, \"l\": 0, \"b\": 0}\n",
    "        )\n",
    "\n",
    "        # Display the figure\n",
    "        fig.show()\n",
    "    else:\n",
    "        print(\"No flights data to display.\")"
   ],
   "metadata": {
    "collapsed": false,
    "ExecuteTime": {
     "end_time": "2024-05-30T09:21:17.125310Z",
     "start_time": "2024-05-30T09:21:17.107309900Z"
    }
   }
  },
  {
   "cell_type": "code",
   "execution_count": 72,
   "outputs": [
    {
     "data": {
      "application/vnd.plotly.v1+json": {
       "data": [
        {
         "geo": "geo",
         "hovertemplate": "<b>%{hovertext}</b><br><br>geography.latitude=%{lat}<br>geography.longitude=%{lon}<extra></extra>",
         "hovertext": [
          "A3823",
          "BT214",
          "EW5221",
          "BA995",
          "LH1953",
          "LH201",
          "LH1949",
          "FH1282",
          "IB3671",
          "FR226",
          "OS236",
          "FR2732",
          "FR3311",
          "AY1436",
          "EW4343",
          "EW9041",
          "HU490",
          "LX983",
          "QR82",
          "DX126"
         ],
         "lat": [
          52.5794,
          55.219,
          50.877,
          52.175,
          49.3355,
          51.0455,
          48.3575,
          43.692,
          52.3614,
          50.8645,
          52.3622,
          55.6263,
          45.6291,
          57.0433,
          47.7909,
          51.2875,
          48.991,
          52.3653,
          33.655,
          52.2708
         ],
         "legendgroup": "",
         "lon": [
          13.8367,
          16.536,
          7.1221,
          8.1319,
          12.9361,
          10.695,
          11.794,
          24.6531,
          13.5129,
          11.0222,
          13.5072,
          16.9279,
          10.3811,
          18.3999,
          12.9995,
          6.55,
          102.534,
          13.5027,
          45.3776,
          13.0608
         ],
         "marker": {
          "color": "#636efa",
          "symbol": "circle"
         },
         "mode": "markers",
         "name": "",
         "showlegend": false,
         "type": "scattergeo"
        }
       ],
       "layout": {
        "template": {
         "data": {
          "histogram2dcontour": [
           {
            "type": "histogram2dcontour",
            "colorbar": {
             "outlinewidth": 0,
             "ticks": ""
            },
            "colorscale": [
             [
              0.0,
              "#0d0887"
             ],
             [
              0.1111111111111111,
              "#46039f"
             ],
             [
              0.2222222222222222,
              "#7201a8"
             ],
             [
              0.3333333333333333,
              "#9c179e"
             ],
             [
              0.4444444444444444,
              "#bd3786"
             ],
             [
              0.5555555555555556,
              "#d8576b"
             ],
             [
              0.6666666666666666,
              "#ed7953"
             ],
             [
              0.7777777777777778,
              "#fb9f3a"
             ],
             [
              0.8888888888888888,
              "#fdca26"
             ],
             [
              1.0,
              "#f0f921"
             ]
            ]
           }
          ],
          "choropleth": [
           {
            "type": "choropleth",
            "colorbar": {
             "outlinewidth": 0,
             "ticks": ""
            }
           }
          ],
          "histogram2d": [
           {
            "type": "histogram2d",
            "colorbar": {
             "outlinewidth": 0,
             "ticks": ""
            },
            "colorscale": [
             [
              0.0,
              "#0d0887"
             ],
             [
              0.1111111111111111,
              "#46039f"
             ],
             [
              0.2222222222222222,
              "#7201a8"
             ],
             [
              0.3333333333333333,
              "#9c179e"
             ],
             [
              0.4444444444444444,
              "#bd3786"
             ],
             [
              0.5555555555555556,
              "#d8576b"
             ],
             [
              0.6666666666666666,
              "#ed7953"
             ],
             [
              0.7777777777777778,
              "#fb9f3a"
             ],
             [
              0.8888888888888888,
              "#fdca26"
             ],
             [
              1.0,
              "#f0f921"
             ]
            ]
           }
          ],
          "heatmap": [
           {
            "type": "heatmap",
            "colorbar": {
             "outlinewidth": 0,
             "ticks": ""
            },
            "colorscale": [
             [
              0.0,
              "#0d0887"
             ],
             [
              0.1111111111111111,
              "#46039f"
             ],
             [
              0.2222222222222222,
              "#7201a8"
             ],
             [
              0.3333333333333333,
              "#9c179e"
             ],
             [
              0.4444444444444444,
              "#bd3786"
             ],
             [
              0.5555555555555556,
              "#d8576b"
             ],
             [
              0.6666666666666666,
              "#ed7953"
             ],
             [
              0.7777777777777778,
              "#fb9f3a"
             ],
             [
              0.8888888888888888,
              "#fdca26"
             ],
             [
              1.0,
              "#f0f921"
             ]
            ]
           }
          ],
          "heatmapgl": [
           {
            "type": "heatmapgl",
            "colorbar": {
             "outlinewidth": 0,
             "ticks": ""
            },
            "colorscale": [
             [
              0.0,
              "#0d0887"
             ],
             [
              0.1111111111111111,
              "#46039f"
             ],
             [
              0.2222222222222222,
              "#7201a8"
             ],
             [
              0.3333333333333333,
              "#9c179e"
             ],
             [
              0.4444444444444444,
              "#bd3786"
             ],
             [
              0.5555555555555556,
              "#d8576b"
             ],
             [
              0.6666666666666666,
              "#ed7953"
             ],
             [
              0.7777777777777778,
              "#fb9f3a"
             ],
             [
              0.8888888888888888,
              "#fdca26"
             ],
             [
              1.0,
              "#f0f921"
             ]
            ]
           }
          ],
          "contourcarpet": [
           {
            "type": "contourcarpet",
            "colorbar": {
             "outlinewidth": 0,
             "ticks": ""
            }
           }
          ],
          "contour": [
           {
            "type": "contour",
            "colorbar": {
             "outlinewidth": 0,
             "ticks": ""
            },
            "colorscale": [
             [
              0.0,
              "#0d0887"
             ],
             [
              0.1111111111111111,
              "#46039f"
             ],
             [
              0.2222222222222222,
              "#7201a8"
             ],
             [
              0.3333333333333333,
              "#9c179e"
             ],
             [
              0.4444444444444444,
              "#bd3786"
             ],
             [
              0.5555555555555556,
              "#d8576b"
             ],
             [
              0.6666666666666666,
              "#ed7953"
             ],
             [
              0.7777777777777778,
              "#fb9f3a"
             ],
             [
              0.8888888888888888,
              "#fdca26"
             ],
             [
              1.0,
              "#f0f921"
             ]
            ]
           }
          ],
          "surface": [
           {
            "type": "surface",
            "colorbar": {
             "outlinewidth": 0,
             "ticks": ""
            },
            "colorscale": [
             [
              0.0,
              "#0d0887"
             ],
             [
              0.1111111111111111,
              "#46039f"
             ],
             [
              0.2222222222222222,
              "#7201a8"
             ],
             [
              0.3333333333333333,
              "#9c179e"
             ],
             [
              0.4444444444444444,
              "#bd3786"
             ],
             [
              0.5555555555555556,
              "#d8576b"
             ],
             [
              0.6666666666666666,
              "#ed7953"
             ],
             [
              0.7777777777777778,
              "#fb9f3a"
             ],
             [
              0.8888888888888888,
              "#fdca26"
             ],
             [
              1.0,
              "#f0f921"
             ]
            ]
           }
          ],
          "mesh3d": [
           {
            "type": "mesh3d",
            "colorbar": {
             "outlinewidth": 0,
             "ticks": ""
            }
           }
          ],
          "scatter": [
           {
            "marker": {
             "line": {
              "color": "#283442"
             }
            },
            "type": "scatter"
           }
          ],
          "parcoords": [
           {
            "type": "parcoords",
            "line": {
             "colorbar": {
              "outlinewidth": 0,
              "ticks": ""
             }
            }
           }
          ],
          "scatterpolargl": [
           {
            "type": "scatterpolargl",
            "marker": {
             "colorbar": {
              "outlinewidth": 0,
              "ticks": ""
             }
            }
           }
          ],
          "bar": [
           {
            "error_x": {
             "color": "#f2f5fa"
            },
            "error_y": {
             "color": "#f2f5fa"
            },
            "marker": {
             "line": {
              "color": "rgb(17,17,17)",
              "width": 0.5
             },
             "pattern": {
              "fillmode": "overlay",
              "size": 10,
              "solidity": 0.2
             }
            },
            "type": "bar"
           }
          ],
          "scattergeo": [
           {
            "type": "scattergeo",
            "marker": {
             "colorbar": {
              "outlinewidth": 0,
              "ticks": ""
             }
            }
           }
          ],
          "scatterpolar": [
           {
            "type": "scatterpolar",
            "marker": {
             "colorbar": {
              "outlinewidth": 0,
              "ticks": ""
             }
            }
           }
          ],
          "histogram": [
           {
            "marker": {
             "pattern": {
              "fillmode": "overlay",
              "size": 10,
              "solidity": 0.2
             }
            },
            "type": "histogram"
           }
          ],
          "scattergl": [
           {
            "marker": {
             "line": {
              "color": "#283442"
             }
            },
            "type": "scattergl"
           }
          ],
          "scatter3d": [
           {
            "type": "scatter3d",
            "line": {
             "colorbar": {
              "outlinewidth": 0,
              "ticks": ""
             }
            },
            "marker": {
             "colorbar": {
              "outlinewidth": 0,
              "ticks": ""
             }
            }
           }
          ],
          "scattermapbox": [
           {
            "type": "scattermapbox",
            "marker": {
             "colorbar": {
              "outlinewidth": 0,
              "ticks": ""
             }
            }
           }
          ],
          "scatterternary": [
           {
            "type": "scatterternary",
            "marker": {
             "colorbar": {
              "outlinewidth": 0,
              "ticks": ""
             }
            }
           }
          ],
          "scattercarpet": [
           {
            "type": "scattercarpet",
            "marker": {
             "colorbar": {
              "outlinewidth": 0,
              "ticks": ""
             }
            }
           }
          ],
          "carpet": [
           {
            "aaxis": {
             "endlinecolor": "#A2B1C6",
             "gridcolor": "#506784",
             "linecolor": "#506784",
             "minorgridcolor": "#506784",
             "startlinecolor": "#A2B1C6"
            },
            "baxis": {
             "endlinecolor": "#A2B1C6",
             "gridcolor": "#506784",
             "linecolor": "#506784",
             "minorgridcolor": "#506784",
             "startlinecolor": "#A2B1C6"
            },
            "type": "carpet"
           }
          ],
          "table": [
           {
            "cells": {
             "fill": {
              "color": "#506784"
             },
             "line": {
              "color": "rgb(17,17,17)"
             }
            },
            "header": {
             "fill": {
              "color": "#2a3f5f"
             },
             "line": {
              "color": "rgb(17,17,17)"
             }
            },
            "type": "table"
           }
          ],
          "barpolar": [
           {
            "marker": {
             "line": {
              "color": "rgb(17,17,17)",
              "width": 0.5
             },
             "pattern": {
              "fillmode": "overlay",
              "size": 10,
              "solidity": 0.2
             }
            },
            "type": "barpolar"
           }
          ],
          "pie": [
           {
            "automargin": true,
            "type": "pie"
           }
          ]
         },
         "layout": {
          "autotypenumbers": "strict",
          "colorway": [
           "#636efa",
           "#EF553B",
           "#00cc96",
           "#ab63fa",
           "#FFA15A",
           "#19d3f3",
           "#FF6692",
           "#B6E880",
           "#FF97FF",
           "#FECB52"
          ],
          "font": {
           "color": "#f2f5fa"
          },
          "hovermode": "closest",
          "hoverlabel": {
           "align": "left"
          },
          "paper_bgcolor": "rgb(17,17,17)",
          "plot_bgcolor": "rgb(17,17,17)",
          "polar": {
           "bgcolor": "rgb(17,17,17)",
           "angularaxis": {
            "gridcolor": "#506784",
            "linecolor": "#506784",
            "ticks": ""
           },
           "radialaxis": {
            "gridcolor": "#506784",
            "linecolor": "#506784",
            "ticks": ""
           }
          },
          "ternary": {
           "bgcolor": "rgb(17,17,17)",
           "aaxis": {
            "gridcolor": "#506784",
            "linecolor": "#506784",
            "ticks": ""
           },
           "baxis": {
            "gridcolor": "#506784",
            "linecolor": "#506784",
            "ticks": ""
           },
           "caxis": {
            "gridcolor": "#506784",
            "linecolor": "#506784",
            "ticks": ""
           }
          },
          "coloraxis": {
           "colorbar": {
            "outlinewidth": 0,
            "ticks": ""
           }
          },
          "colorscale": {
           "sequential": [
            [
             0.0,
             "#0d0887"
            ],
            [
             0.1111111111111111,
             "#46039f"
            ],
            [
             0.2222222222222222,
             "#7201a8"
            ],
            [
             0.3333333333333333,
             "#9c179e"
            ],
            [
             0.4444444444444444,
             "#bd3786"
            ],
            [
             0.5555555555555556,
             "#d8576b"
            ],
            [
             0.6666666666666666,
             "#ed7953"
            ],
            [
             0.7777777777777778,
             "#fb9f3a"
            ],
            [
             0.8888888888888888,
             "#fdca26"
            ],
            [
             1.0,
             "#f0f921"
            ]
           ],
           "sequentialminus": [
            [
             0.0,
             "#0d0887"
            ],
            [
             0.1111111111111111,
             "#46039f"
            ],
            [
             0.2222222222222222,
             "#7201a8"
            ],
            [
             0.3333333333333333,
             "#9c179e"
            ],
            [
             0.4444444444444444,
             "#bd3786"
            ],
            [
             0.5555555555555556,
             "#d8576b"
            ],
            [
             0.6666666666666666,
             "#ed7953"
            ],
            [
             0.7777777777777778,
             "#fb9f3a"
            ],
            [
             0.8888888888888888,
             "#fdca26"
            ],
            [
             1.0,
             "#f0f921"
            ]
           ],
           "diverging": [
            [
             0,
             "#8e0152"
            ],
            [
             0.1,
             "#c51b7d"
            ],
            [
             0.2,
             "#de77ae"
            ],
            [
             0.3,
             "#f1b6da"
            ],
            [
             0.4,
             "#fde0ef"
            ],
            [
             0.5,
             "#f7f7f7"
            ],
            [
             0.6,
             "#e6f5d0"
            ],
            [
             0.7,
             "#b8e186"
            ],
            [
             0.8,
             "#7fbc41"
            ],
            [
             0.9,
             "#4d9221"
            ],
            [
             1,
             "#276419"
            ]
           ]
          },
          "xaxis": {
           "gridcolor": "#283442",
           "linecolor": "#506784",
           "ticks": "",
           "title": {
            "standoff": 15
           },
           "zerolinecolor": "#283442",
           "automargin": true,
           "zerolinewidth": 2
          },
          "yaxis": {
           "gridcolor": "#283442",
           "linecolor": "#506784",
           "ticks": "",
           "title": {
            "standoff": 15
           },
           "zerolinecolor": "#283442",
           "automargin": true,
           "zerolinewidth": 2
          },
          "scene": {
           "xaxis": {
            "backgroundcolor": "rgb(17,17,17)",
            "gridcolor": "#506784",
            "linecolor": "#506784",
            "showbackground": true,
            "ticks": "",
            "zerolinecolor": "#C8D4E3",
            "gridwidth": 2
           },
           "yaxis": {
            "backgroundcolor": "rgb(17,17,17)",
            "gridcolor": "#506784",
            "linecolor": "#506784",
            "showbackground": true,
            "ticks": "",
            "zerolinecolor": "#C8D4E3",
            "gridwidth": 2
           },
           "zaxis": {
            "backgroundcolor": "rgb(17,17,17)",
            "gridcolor": "#506784",
            "linecolor": "#506784",
            "showbackground": true,
            "ticks": "",
            "zerolinecolor": "#C8D4E3",
            "gridwidth": 2
           }
          },
          "shapedefaults": {
           "line": {
            "color": "#f2f5fa"
           }
          },
          "annotationdefaults": {
           "arrowcolor": "#f2f5fa",
           "arrowhead": 0,
           "arrowwidth": 1
          },
          "geo": {
           "bgcolor": "rgb(17,17,17)",
           "landcolor": "rgb(17,17,17)",
           "subunitcolor": "#506784",
           "showland": true,
           "showlakes": true,
           "lakecolor": "rgb(17,17,17)"
          },
          "title": {
           "x": 0.05
          },
          "updatemenudefaults": {
           "bgcolor": "#506784",
           "borderwidth": 0
          },
          "sliderdefaults": {
           "bgcolor": "#C8D4E3",
           "borderwidth": 1,
           "bordercolor": "rgb(17,17,17)",
           "tickwidth": 0
          },
          "mapbox": {
           "style": "dark"
          }
         }
        },
        "geo": {
         "domain": {
          "x": [
           0.0,
           1.0
          ],
          "y": [
           0.0,
           1.0
          ]
         },
         "projection": {
          "type": "natural earth"
         },
         "center": {}
        },
        "legend": {
         "tracegroupgap": 0
        },
        "margin": {
         "t": 60
        },
        "title": {
         "text": "Real-Time Flight Positions"
        }
       },
       "config": {
        "plotlyServerURL": "https://plot.ly"
       }
      },
      "text/html": "<div>                            <div id=\"9d027377-0088-42d1-bc8a-1cd3869d3031\" class=\"plotly-graph-div\" style=\"height:525px; width:100%;\"></div>            <script type=\"text/javascript\">                require([\"plotly\"], function(Plotly) {                    window.PLOTLYENV=window.PLOTLYENV || {};                                    if (document.getElementById(\"9d027377-0088-42d1-bc8a-1cd3869d3031\")) {                    Plotly.newPlot(                        \"9d027377-0088-42d1-bc8a-1cd3869d3031\",                        [{\"geo\":\"geo\",\"hovertemplate\":\"\\u003cb\\u003e%{hovertext}\\u003c\\u002fb\\u003e\\u003cbr\\u003e\\u003cbr\\u003egeography.latitude=%{lat}\\u003cbr\\u003egeography.longitude=%{lon}\\u003cextra\\u003e\\u003c\\u002fextra\\u003e\",\"hovertext\":[\"A3823\",\"BT214\",\"EW5221\",\"BA995\",\"LH1953\",\"LH201\",\"LH1949\",\"FH1282\",\"IB3671\",\"FR226\",\"OS236\",\"FR2732\",\"FR3311\",\"AY1436\",\"EW4343\",\"EW9041\",\"HU490\",\"LX983\",\"QR82\",\"DX126\"],\"lat\":[52.5794,55.219,50.877,52.175,49.3355,51.0455,48.3575,43.692,52.3614,50.8645,52.3622,55.6263,45.6291,57.0433,47.7909,51.2875,48.991,52.3653,33.655,52.2708],\"legendgroup\":\"\",\"lon\":[13.8367,16.536,7.1221,8.1319,12.9361,10.695,11.794,24.6531,13.5129,11.0222,13.5072,16.9279,10.3811,18.3999,12.9995,6.55,102.534,13.5027,45.3776,13.0608],\"marker\":{\"color\":\"#636efa\",\"symbol\":\"circle\"},\"mode\":\"markers\",\"name\":\"\",\"showlegend\":false,\"type\":\"scattergeo\"}],                        {\"template\":{\"data\":{\"histogram2dcontour\":[{\"type\":\"histogram2dcontour\",\"colorbar\":{\"outlinewidth\":0,\"ticks\":\"\"},\"colorscale\":[[0.0,\"#0d0887\"],[0.1111111111111111,\"#46039f\"],[0.2222222222222222,\"#7201a8\"],[0.3333333333333333,\"#9c179e\"],[0.4444444444444444,\"#bd3786\"],[0.5555555555555556,\"#d8576b\"],[0.6666666666666666,\"#ed7953\"],[0.7777777777777778,\"#fb9f3a\"],[0.8888888888888888,\"#fdca26\"],[1.0,\"#f0f921\"]]}],\"choropleth\":[{\"type\":\"choropleth\",\"colorbar\":{\"outlinewidth\":0,\"ticks\":\"\"}}],\"histogram2d\":[{\"type\":\"histogram2d\",\"colorbar\":{\"outlinewidth\":0,\"ticks\":\"\"},\"colorscale\":[[0.0,\"#0d0887\"],[0.1111111111111111,\"#46039f\"],[0.2222222222222222,\"#7201a8\"],[0.3333333333333333,\"#9c179e\"],[0.4444444444444444,\"#bd3786\"],[0.5555555555555556,\"#d8576b\"],[0.6666666666666666,\"#ed7953\"],[0.7777777777777778,\"#fb9f3a\"],[0.8888888888888888,\"#fdca26\"],[1.0,\"#f0f921\"]]}],\"heatmap\":[{\"type\":\"heatmap\",\"colorbar\":{\"outlinewidth\":0,\"ticks\":\"\"},\"colorscale\":[[0.0,\"#0d0887\"],[0.1111111111111111,\"#46039f\"],[0.2222222222222222,\"#7201a8\"],[0.3333333333333333,\"#9c179e\"],[0.4444444444444444,\"#bd3786\"],[0.5555555555555556,\"#d8576b\"],[0.6666666666666666,\"#ed7953\"],[0.7777777777777778,\"#fb9f3a\"],[0.8888888888888888,\"#fdca26\"],[1.0,\"#f0f921\"]]}],\"heatmapgl\":[{\"type\":\"heatmapgl\",\"colorbar\":{\"outlinewidth\":0,\"ticks\":\"\"},\"colorscale\":[[0.0,\"#0d0887\"],[0.1111111111111111,\"#46039f\"],[0.2222222222222222,\"#7201a8\"],[0.3333333333333333,\"#9c179e\"],[0.4444444444444444,\"#bd3786\"],[0.5555555555555556,\"#d8576b\"],[0.6666666666666666,\"#ed7953\"],[0.7777777777777778,\"#fb9f3a\"],[0.8888888888888888,\"#fdca26\"],[1.0,\"#f0f921\"]]}],\"contourcarpet\":[{\"type\":\"contourcarpet\",\"colorbar\":{\"outlinewidth\":0,\"ticks\":\"\"}}],\"contour\":[{\"type\":\"contour\",\"colorbar\":{\"outlinewidth\":0,\"ticks\":\"\"},\"colorscale\":[[0.0,\"#0d0887\"],[0.1111111111111111,\"#46039f\"],[0.2222222222222222,\"#7201a8\"],[0.3333333333333333,\"#9c179e\"],[0.4444444444444444,\"#bd3786\"],[0.5555555555555556,\"#d8576b\"],[0.6666666666666666,\"#ed7953\"],[0.7777777777777778,\"#fb9f3a\"],[0.8888888888888888,\"#fdca26\"],[1.0,\"#f0f921\"]]}],\"surface\":[{\"type\":\"surface\",\"colorbar\":{\"outlinewidth\":0,\"ticks\":\"\"},\"colorscale\":[[0.0,\"#0d0887\"],[0.1111111111111111,\"#46039f\"],[0.2222222222222222,\"#7201a8\"],[0.3333333333333333,\"#9c179e\"],[0.4444444444444444,\"#bd3786\"],[0.5555555555555556,\"#d8576b\"],[0.6666666666666666,\"#ed7953\"],[0.7777777777777778,\"#fb9f3a\"],[0.8888888888888888,\"#fdca26\"],[1.0,\"#f0f921\"]]}],\"mesh3d\":[{\"type\":\"mesh3d\",\"colorbar\":{\"outlinewidth\":0,\"ticks\":\"\"}}],\"scatter\":[{\"marker\":{\"line\":{\"color\":\"#283442\"}},\"type\":\"scatter\"}],\"parcoords\":[{\"type\":\"parcoords\",\"line\":{\"colorbar\":{\"outlinewidth\":0,\"ticks\":\"\"}}}],\"scatterpolargl\":[{\"type\":\"scatterpolargl\",\"marker\":{\"colorbar\":{\"outlinewidth\":0,\"ticks\":\"\"}}}],\"bar\":[{\"error_x\":{\"color\":\"#f2f5fa\"},\"error_y\":{\"color\":\"#f2f5fa\"},\"marker\":{\"line\":{\"color\":\"rgb(17,17,17)\",\"width\":0.5},\"pattern\":{\"fillmode\":\"overlay\",\"size\":10,\"solidity\":0.2}},\"type\":\"bar\"}],\"scattergeo\":[{\"type\":\"scattergeo\",\"marker\":{\"colorbar\":{\"outlinewidth\":0,\"ticks\":\"\"}}}],\"scatterpolar\":[{\"type\":\"scatterpolar\",\"marker\":{\"colorbar\":{\"outlinewidth\":0,\"ticks\":\"\"}}}],\"histogram\":[{\"marker\":{\"pattern\":{\"fillmode\":\"overlay\",\"size\":10,\"solidity\":0.2}},\"type\":\"histogram\"}],\"scattergl\":[{\"marker\":{\"line\":{\"color\":\"#283442\"}},\"type\":\"scattergl\"}],\"scatter3d\":[{\"type\":\"scatter3d\",\"line\":{\"colorbar\":{\"outlinewidth\":0,\"ticks\":\"\"}},\"marker\":{\"colorbar\":{\"outlinewidth\":0,\"ticks\":\"\"}}}],\"scattermapbox\":[{\"type\":\"scattermapbox\",\"marker\":{\"colorbar\":{\"outlinewidth\":0,\"ticks\":\"\"}}}],\"scatterternary\":[{\"type\":\"scatterternary\",\"marker\":{\"colorbar\":{\"outlinewidth\":0,\"ticks\":\"\"}}}],\"scattercarpet\":[{\"type\":\"scattercarpet\",\"marker\":{\"colorbar\":{\"outlinewidth\":0,\"ticks\":\"\"}}}],\"carpet\":[{\"aaxis\":{\"endlinecolor\":\"#A2B1C6\",\"gridcolor\":\"#506784\",\"linecolor\":\"#506784\",\"minorgridcolor\":\"#506784\",\"startlinecolor\":\"#A2B1C6\"},\"baxis\":{\"endlinecolor\":\"#A2B1C6\",\"gridcolor\":\"#506784\",\"linecolor\":\"#506784\",\"minorgridcolor\":\"#506784\",\"startlinecolor\":\"#A2B1C6\"},\"type\":\"carpet\"}],\"table\":[{\"cells\":{\"fill\":{\"color\":\"#506784\"},\"line\":{\"color\":\"rgb(17,17,17)\"}},\"header\":{\"fill\":{\"color\":\"#2a3f5f\"},\"line\":{\"color\":\"rgb(17,17,17)\"}},\"type\":\"table\"}],\"barpolar\":[{\"marker\":{\"line\":{\"color\":\"rgb(17,17,17)\",\"width\":0.5},\"pattern\":{\"fillmode\":\"overlay\",\"size\":10,\"solidity\":0.2}},\"type\":\"barpolar\"}],\"pie\":[{\"automargin\":true,\"type\":\"pie\"}]},\"layout\":{\"autotypenumbers\":\"strict\",\"colorway\":[\"#636efa\",\"#EF553B\",\"#00cc96\",\"#ab63fa\",\"#FFA15A\",\"#19d3f3\",\"#FF6692\",\"#B6E880\",\"#FF97FF\",\"#FECB52\"],\"font\":{\"color\":\"#f2f5fa\"},\"hovermode\":\"closest\",\"hoverlabel\":{\"align\":\"left\"},\"paper_bgcolor\":\"rgb(17,17,17)\",\"plot_bgcolor\":\"rgb(17,17,17)\",\"polar\":{\"bgcolor\":\"rgb(17,17,17)\",\"angularaxis\":{\"gridcolor\":\"#506784\",\"linecolor\":\"#506784\",\"ticks\":\"\"},\"radialaxis\":{\"gridcolor\":\"#506784\",\"linecolor\":\"#506784\",\"ticks\":\"\"}},\"ternary\":{\"bgcolor\":\"rgb(17,17,17)\",\"aaxis\":{\"gridcolor\":\"#506784\",\"linecolor\":\"#506784\",\"ticks\":\"\"},\"baxis\":{\"gridcolor\":\"#506784\",\"linecolor\":\"#506784\",\"ticks\":\"\"},\"caxis\":{\"gridcolor\":\"#506784\",\"linecolor\":\"#506784\",\"ticks\":\"\"}},\"coloraxis\":{\"colorbar\":{\"outlinewidth\":0,\"ticks\":\"\"}},\"colorscale\":{\"sequential\":[[0.0,\"#0d0887\"],[0.1111111111111111,\"#46039f\"],[0.2222222222222222,\"#7201a8\"],[0.3333333333333333,\"#9c179e\"],[0.4444444444444444,\"#bd3786\"],[0.5555555555555556,\"#d8576b\"],[0.6666666666666666,\"#ed7953\"],[0.7777777777777778,\"#fb9f3a\"],[0.8888888888888888,\"#fdca26\"],[1.0,\"#f0f921\"]],\"sequentialminus\":[[0.0,\"#0d0887\"],[0.1111111111111111,\"#46039f\"],[0.2222222222222222,\"#7201a8\"],[0.3333333333333333,\"#9c179e\"],[0.4444444444444444,\"#bd3786\"],[0.5555555555555556,\"#d8576b\"],[0.6666666666666666,\"#ed7953\"],[0.7777777777777778,\"#fb9f3a\"],[0.8888888888888888,\"#fdca26\"],[1.0,\"#f0f921\"]],\"diverging\":[[0,\"#8e0152\"],[0.1,\"#c51b7d\"],[0.2,\"#de77ae\"],[0.3,\"#f1b6da\"],[0.4,\"#fde0ef\"],[0.5,\"#f7f7f7\"],[0.6,\"#e6f5d0\"],[0.7,\"#b8e186\"],[0.8,\"#7fbc41\"],[0.9,\"#4d9221\"],[1,\"#276419\"]]},\"xaxis\":{\"gridcolor\":\"#283442\",\"linecolor\":\"#506784\",\"ticks\":\"\",\"title\":{\"standoff\":15},\"zerolinecolor\":\"#283442\",\"automargin\":true,\"zerolinewidth\":2},\"yaxis\":{\"gridcolor\":\"#283442\",\"linecolor\":\"#506784\",\"ticks\":\"\",\"title\":{\"standoff\":15},\"zerolinecolor\":\"#283442\",\"automargin\":true,\"zerolinewidth\":2},\"scene\":{\"xaxis\":{\"backgroundcolor\":\"rgb(17,17,17)\",\"gridcolor\":\"#506784\",\"linecolor\":\"#506784\",\"showbackground\":true,\"ticks\":\"\",\"zerolinecolor\":\"#C8D4E3\",\"gridwidth\":2},\"yaxis\":{\"backgroundcolor\":\"rgb(17,17,17)\",\"gridcolor\":\"#506784\",\"linecolor\":\"#506784\",\"showbackground\":true,\"ticks\":\"\",\"zerolinecolor\":\"#C8D4E3\",\"gridwidth\":2},\"zaxis\":{\"backgroundcolor\":\"rgb(17,17,17)\",\"gridcolor\":\"#506784\",\"linecolor\":\"#506784\",\"showbackground\":true,\"ticks\":\"\",\"zerolinecolor\":\"#C8D4E3\",\"gridwidth\":2}},\"shapedefaults\":{\"line\":{\"color\":\"#f2f5fa\"}},\"annotationdefaults\":{\"arrowcolor\":\"#f2f5fa\",\"arrowhead\":0,\"arrowwidth\":1},\"geo\":{\"bgcolor\":\"rgb(17,17,17)\",\"landcolor\":\"rgb(17,17,17)\",\"subunitcolor\":\"#506784\",\"showland\":true,\"showlakes\":true,\"lakecolor\":\"rgb(17,17,17)\"},\"title\":{\"x\":0.05},\"updatemenudefaults\":{\"bgcolor\":\"#506784\",\"borderwidth\":0},\"sliderdefaults\":{\"bgcolor\":\"#C8D4E3\",\"borderwidth\":1,\"bordercolor\":\"rgb(17,17,17)\",\"tickwidth\":0},\"mapbox\":{\"style\":\"dark\"}}},\"geo\":{\"domain\":{\"x\":[0.0,1.0],\"y\":[0.0,1.0]},\"projection\":{\"type\":\"natural earth\"},\"center\":{}},\"legend\":{\"tracegroupgap\":0},\"margin\":{\"t\":60},\"title\":{\"text\":\"Real-Time Flight Positions\"}},                        {\"responsive\": true}                    ).then(function(){\n                            \nvar gd = document.getElementById('9d027377-0088-42d1-bc8a-1cd3869d3031');\nvar x = new MutationObserver(function (mutations, observer) {{\n        var display = window.getComputedStyle(gd).display;\n        if (!display || display === 'none') {{\n            console.log([gd, 'removed!']);\n            Plotly.purge(gd);\n            observer.disconnect();\n        }}\n}});\n\n// Listen for the removal of the full notebook cells\nvar notebookContainer = gd.closest('#notebook-container');\nif (notebookContainer) {{\n    x.observe(notebookContainer, {childList: true});\n}}\n\n// Listen for the clearing of the current output cell\nvar outputEl = gd.closest('.output');\nif (outputEl) {{\n    x.observe(outputEl, {childList: true});\n}}\n\n                        })                };                });            </script>        </div>"
     },
     "metadata": {},
     "output_type": "display_data"
    }
   ],
   "source": [
    "update_flight_positions()"
   ],
   "metadata": {
    "collapsed": false,
    "ExecuteTime": {
     "end_time": "2024-05-30T09:21:18.046457800Z",
     "start_time": "2024-05-30T09:21:17.959160200Z"
    }
   }
  },
  {
   "cell_type": "code",
   "execution_count": 73,
   "outputs": [
    {
     "data": {
      "application/vnd.plotly.v1+json": {
       "data": [
        {
         "lat": [
          52.5794,
          55.219,
          50.877,
          52.175,
          49.3355,
          51.0455,
          48.3575,
          43.692,
          52.3614,
          50.8645,
          52.3622,
          55.6263,
          45.6291,
          57.0433,
          47.7909,
          51.2875,
          48.991,
          52.3653,
          33.655,
          52.2708
         ],
         "lon": [
          13.8367,
          16.536,
          7.1221,
          8.1319,
          12.9361,
          10.695,
          11.794,
          24.6531,
          13.5129,
          11.0222,
          13.5072,
          16.9279,
          10.3811,
          18.3999,
          12.9995,
          6.55,
          102.534,
          13.5027,
          45.3776,
          13.0608
         ],
         "marker": {
          "color": "blue",
          "line": {
           "color": "rgb(40,40,40)",
           "width": 0.5
          },
          "size": 10,
          "sizemode": "diameter"
         },
         "text": [
          "A3823",
          "BT214",
          "EW5221",
          "BA995",
          "LH1953",
          "LH201",
          "LH1949",
          "FH1282",
          "IB3671",
          "FR226",
          "OS236",
          "FR2732",
          "FR3311",
          "AY1436",
          "EW4343",
          "EW9041",
          "HU490",
          "LX983",
          "QR82",
          "DX126"
         ],
         "type": "scattergeo"
        }
       ],
       "layout": {
        "template": {
         "data": {
          "histogram2dcontour": [
           {
            "type": "histogram2dcontour",
            "colorbar": {
             "outlinewidth": 0,
             "ticks": ""
            },
            "colorscale": [
             [
              0.0,
              "#0d0887"
             ],
             [
              0.1111111111111111,
              "#46039f"
             ],
             [
              0.2222222222222222,
              "#7201a8"
             ],
             [
              0.3333333333333333,
              "#9c179e"
             ],
             [
              0.4444444444444444,
              "#bd3786"
             ],
             [
              0.5555555555555556,
              "#d8576b"
             ],
             [
              0.6666666666666666,
              "#ed7953"
             ],
             [
              0.7777777777777778,
              "#fb9f3a"
             ],
             [
              0.8888888888888888,
              "#fdca26"
             ],
             [
              1.0,
              "#f0f921"
             ]
            ]
           }
          ],
          "choropleth": [
           {
            "type": "choropleth",
            "colorbar": {
             "outlinewidth": 0,
             "ticks": ""
            }
           }
          ],
          "histogram2d": [
           {
            "type": "histogram2d",
            "colorbar": {
             "outlinewidth": 0,
             "ticks": ""
            },
            "colorscale": [
             [
              0.0,
              "#0d0887"
             ],
             [
              0.1111111111111111,
              "#46039f"
             ],
             [
              0.2222222222222222,
              "#7201a8"
             ],
             [
              0.3333333333333333,
              "#9c179e"
             ],
             [
              0.4444444444444444,
              "#bd3786"
             ],
             [
              0.5555555555555556,
              "#d8576b"
             ],
             [
              0.6666666666666666,
              "#ed7953"
             ],
             [
              0.7777777777777778,
              "#fb9f3a"
             ],
             [
              0.8888888888888888,
              "#fdca26"
             ],
             [
              1.0,
              "#f0f921"
             ]
            ]
           }
          ],
          "heatmap": [
           {
            "type": "heatmap",
            "colorbar": {
             "outlinewidth": 0,
             "ticks": ""
            },
            "colorscale": [
             [
              0.0,
              "#0d0887"
             ],
             [
              0.1111111111111111,
              "#46039f"
             ],
             [
              0.2222222222222222,
              "#7201a8"
             ],
             [
              0.3333333333333333,
              "#9c179e"
             ],
             [
              0.4444444444444444,
              "#bd3786"
             ],
             [
              0.5555555555555556,
              "#d8576b"
             ],
             [
              0.6666666666666666,
              "#ed7953"
             ],
             [
              0.7777777777777778,
              "#fb9f3a"
             ],
             [
              0.8888888888888888,
              "#fdca26"
             ],
             [
              1.0,
              "#f0f921"
             ]
            ]
           }
          ],
          "heatmapgl": [
           {
            "type": "heatmapgl",
            "colorbar": {
             "outlinewidth": 0,
             "ticks": ""
            },
            "colorscale": [
             [
              0.0,
              "#0d0887"
             ],
             [
              0.1111111111111111,
              "#46039f"
             ],
             [
              0.2222222222222222,
              "#7201a8"
             ],
             [
              0.3333333333333333,
              "#9c179e"
             ],
             [
              0.4444444444444444,
              "#bd3786"
             ],
             [
              0.5555555555555556,
              "#d8576b"
             ],
             [
              0.6666666666666666,
              "#ed7953"
             ],
             [
              0.7777777777777778,
              "#fb9f3a"
             ],
             [
              0.8888888888888888,
              "#fdca26"
             ],
             [
              1.0,
              "#f0f921"
             ]
            ]
           }
          ],
          "contourcarpet": [
           {
            "type": "contourcarpet",
            "colorbar": {
             "outlinewidth": 0,
             "ticks": ""
            }
           }
          ],
          "contour": [
           {
            "type": "contour",
            "colorbar": {
             "outlinewidth": 0,
             "ticks": ""
            },
            "colorscale": [
             [
              0.0,
              "#0d0887"
             ],
             [
              0.1111111111111111,
              "#46039f"
             ],
             [
              0.2222222222222222,
              "#7201a8"
             ],
             [
              0.3333333333333333,
              "#9c179e"
             ],
             [
              0.4444444444444444,
              "#bd3786"
             ],
             [
              0.5555555555555556,
              "#d8576b"
             ],
             [
              0.6666666666666666,
              "#ed7953"
             ],
             [
              0.7777777777777778,
              "#fb9f3a"
             ],
             [
              0.8888888888888888,
              "#fdca26"
             ],
             [
              1.0,
              "#f0f921"
             ]
            ]
           }
          ],
          "surface": [
           {
            "type": "surface",
            "colorbar": {
             "outlinewidth": 0,
             "ticks": ""
            },
            "colorscale": [
             [
              0.0,
              "#0d0887"
             ],
             [
              0.1111111111111111,
              "#46039f"
             ],
             [
              0.2222222222222222,
              "#7201a8"
             ],
             [
              0.3333333333333333,
              "#9c179e"
             ],
             [
              0.4444444444444444,
              "#bd3786"
             ],
             [
              0.5555555555555556,
              "#d8576b"
             ],
             [
              0.6666666666666666,
              "#ed7953"
             ],
             [
              0.7777777777777778,
              "#fb9f3a"
             ],
             [
              0.8888888888888888,
              "#fdca26"
             ],
             [
              1.0,
              "#f0f921"
             ]
            ]
           }
          ],
          "mesh3d": [
           {
            "type": "mesh3d",
            "colorbar": {
             "outlinewidth": 0,
             "ticks": ""
            }
           }
          ],
          "scatter": [
           {
            "marker": {
             "line": {
              "color": "#283442"
             }
            },
            "type": "scatter"
           }
          ],
          "parcoords": [
           {
            "type": "parcoords",
            "line": {
             "colorbar": {
              "outlinewidth": 0,
              "ticks": ""
             }
            }
           }
          ],
          "scatterpolargl": [
           {
            "type": "scatterpolargl",
            "marker": {
             "colorbar": {
              "outlinewidth": 0,
              "ticks": ""
             }
            }
           }
          ],
          "bar": [
           {
            "error_x": {
             "color": "#f2f5fa"
            },
            "error_y": {
             "color": "#f2f5fa"
            },
            "marker": {
             "line": {
              "color": "rgb(17,17,17)",
              "width": 0.5
             },
             "pattern": {
              "fillmode": "overlay",
              "size": 10,
              "solidity": 0.2
             }
            },
            "type": "bar"
           }
          ],
          "scattergeo": [
           {
            "type": "scattergeo",
            "marker": {
             "colorbar": {
              "outlinewidth": 0,
              "ticks": ""
             }
            }
           }
          ],
          "scatterpolar": [
           {
            "type": "scatterpolar",
            "marker": {
             "colorbar": {
              "outlinewidth": 0,
              "ticks": ""
             }
            }
           }
          ],
          "histogram": [
           {
            "marker": {
             "pattern": {
              "fillmode": "overlay",
              "size": 10,
              "solidity": 0.2
             }
            },
            "type": "histogram"
           }
          ],
          "scattergl": [
           {
            "marker": {
             "line": {
              "color": "#283442"
             }
            },
            "type": "scattergl"
           }
          ],
          "scatter3d": [
           {
            "type": "scatter3d",
            "line": {
             "colorbar": {
              "outlinewidth": 0,
              "ticks": ""
             }
            },
            "marker": {
             "colorbar": {
              "outlinewidth": 0,
              "ticks": ""
             }
            }
           }
          ],
          "scattermapbox": [
           {
            "type": "scattermapbox",
            "marker": {
             "colorbar": {
              "outlinewidth": 0,
              "ticks": ""
             }
            }
           }
          ],
          "scatterternary": [
           {
            "type": "scatterternary",
            "marker": {
             "colorbar": {
              "outlinewidth": 0,
              "ticks": ""
             }
            }
           }
          ],
          "scattercarpet": [
           {
            "type": "scattercarpet",
            "marker": {
             "colorbar": {
              "outlinewidth": 0,
              "ticks": ""
             }
            }
           }
          ],
          "carpet": [
           {
            "aaxis": {
             "endlinecolor": "#A2B1C6",
             "gridcolor": "#506784",
             "linecolor": "#506784",
             "minorgridcolor": "#506784",
             "startlinecolor": "#A2B1C6"
            },
            "baxis": {
             "endlinecolor": "#A2B1C6",
             "gridcolor": "#506784",
             "linecolor": "#506784",
             "minorgridcolor": "#506784",
             "startlinecolor": "#A2B1C6"
            },
            "type": "carpet"
           }
          ],
          "table": [
           {
            "cells": {
             "fill": {
              "color": "#506784"
             },
             "line": {
              "color": "rgb(17,17,17)"
             }
            },
            "header": {
             "fill": {
              "color": "#2a3f5f"
             },
             "line": {
              "color": "rgb(17,17,17)"
             }
            },
            "type": "table"
           }
          ],
          "barpolar": [
           {
            "marker": {
             "line": {
              "color": "rgb(17,17,17)",
              "width": 0.5
             },
             "pattern": {
              "fillmode": "overlay",
              "size": 10,
              "solidity": 0.2
             }
            },
            "type": "barpolar"
           }
          ],
          "pie": [
           {
            "automargin": true,
            "type": "pie"
           }
          ]
         },
         "layout": {
          "autotypenumbers": "strict",
          "colorway": [
           "#636efa",
           "#EF553B",
           "#00cc96",
           "#ab63fa",
           "#FFA15A",
           "#19d3f3",
           "#FF6692",
           "#B6E880",
           "#FF97FF",
           "#FECB52"
          ],
          "font": {
           "color": "#f2f5fa"
          },
          "hovermode": "closest",
          "hoverlabel": {
           "align": "left"
          },
          "paper_bgcolor": "rgb(17,17,17)",
          "plot_bgcolor": "rgb(17,17,17)",
          "polar": {
           "bgcolor": "rgb(17,17,17)",
           "angularaxis": {
            "gridcolor": "#506784",
            "linecolor": "#506784",
            "ticks": ""
           },
           "radialaxis": {
            "gridcolor": "#506784",
            "linecolor": "#506784",
            "ticks": ""
           }
          },
          "ternary": {
           "bgcolor": "rgb(17,17,17)",
           "aaxis": {
            "gridcolor": "#506784",
            "linecolor": "#506784",
            "ticks": ""
           },
           "baxis": {
            "gridcolor": "#506784",
            "linecolor": "#506784",
            "ticks": ""
           },
           "caxis": {
            "gridcolor": "#506784",
            "linecolor": "#506784",
            "ticks": ""
           }
          },
          "coloraxis": {
           "colorbar": {
            "outlinewidth": 0,
            "ticks": ""
           }
          },
          "colorscale": {
           "sequential": [
            [
             0.0,
             "#0d0887"
            ],
            [
             0.1111111111111111,
             "#46039f"
            ],
            [
             0.2222222222222222,
             "#7201a8"
            ],
            [
             0.3333333333333333,
             "#9c179e"
            ],
            [
             0.4444444444444444,
             "#bd3786"
            ],
            [
             0.5555555555555556,
             "#d8576b"
            ],
            [
             0.6666666666666666,
             "#ed7953"
            ],
            [
             0.7777777777777778,
             "#fb9f3a"
            ],
            [
             0.8888888888888888,
             "#fdca26"
            ],
            [
             1.0,
             "#f0f921"
            ]
           ],
           "sequentialminus": [
            [
             0.0,
             "#0d0887"
            ],
            [
             0.1111111111111111,
             "#46039f"
            ],
            [
             0.2222222222222222,
             "#7201a8"
            ],
            [
             0.3333333333333333,
             "#9c179e"
            ],
            [
             0.4444444444444444,
             "#bd3786"
            ],
            [
             0.5555555555555556,
             "#d8576b"
            ],
            [
             0.6666666666666666,
             "#ed7953"
            ],
            [
             0.7777777777777778,
             "#fb9f3a"
            ],
            [
             0.8888888888888888,
             "#fdca26"
            ],
            [
             1.0,
             "#f0f921"
            ]
           ],
           "diverging": [
            [
             0,
             "#8e0152"
            ],
            [
             0.1,
             "#c51b7d"
            ],
            [
             0.2,
             "#de77ae"
            ],
            [
             0.3,
             "#f1b6da"
            ],
            [
             0.4,
             "#fde0ef"
            ],
            [
             0.5,
             "#f7f7f7"
            ],
            [
             0.6,
             "#e6f5d0"
            ],
            [
             0.7,
             "#b8e186"
            ],
            [
             0.8,
             "#7fbc41"
            ],
            [
             0.9,
             "#4d9221"
            ],
            [
             1,
             "#276419"
            ]
           ]
          },
          "xaxis": {
           "gridcolor": "#283442",
           "linecolor": "#506784",
           "ticks": "",
           "title": {
            "standoff": 15
           },
           "zerolinecolor": "#283442",
           "automargin": true,
           "zerolinewidth": 2
          },
          "yaxis": {
           "gridcolor": "#283442",
           "linecolor": "#506784",
           "ticks": "",
           "title": {
            "standoff": 15
           },
           "zerolinecolor": "#283442",
           "automargin": true,
           "zerolinewidth": 2
          },
          "scene": {
           "xaxis": {
            "backgroundcolor": "rgb(17,17,17)",
            "gridcolor": "#506784",
            "linecolor": "#506784",
            "showbackground": true,
            "ticks": "",
            "zerolinecolor": "#C8D4E3",
            "gridwidth": 2
           },
           "yaxis": {
            "backgroundcolor": "rgb(17,17,17)",
            "gridcolor": "#506784",
            "linecolor": "#506784",
            "showbackground": true,
            "ticks": "",
            "zerolinecolor": "#C8D4E3",
            "gridwidth": 2
           },
           "zaxis": {
            "backgroundcolor": "rgb(17,17,17)",
            "gridcolor": "#506784",
            "linecolor": "#506784",
            "showbackground": true,
            "ticks": "",
            "zerolinecolor": "#C8D4E3",
            "gridwidth": 2
           }
          },
          "shapedefaults": {
           "line": {
            "color": "#f2f5fa"
           }
          },
          "annotationdefaults": {
           "arrowcolor": "#f2f5fa",
           "arrowhead": 0,
           "arrowwidth": 1
          },
          "geo": {
           "bgcolor": "rgb(17,17,17)",
           "landcolor": "rgb(17,17,17)",
           "subunitcolor": "#506784",
           "showland": true,
           "showlakes": true,
           "lakecolor": "rgb(17,17,17)"
          },
          "title": {
           "x": 0.05
          },
          "updatemenudefaults": {
           "bgcolor": "#506784",
           "borderwidth": 0
          },
          "sliderdefaults": {
           "bgcolor": "#C8D4E3",
           "borderwidth": 1,
           "bordercolor": "rgb(17,17,17)",
           "tickwidth": 0
          },
          "mapbox": {
           "style": "dark"
          }
         }
        },
        "geo": {
         "projection": {
          "type": "orthographic"
         },
         "visible": true,
         "scope": "europe",
         "showcountries": true,
         "countrycolor": "Black",
         "showsubunits": true,
         "subunitcolor": "Blue",
         "showland": true,
         "landcolor": "rgb(243, 243, 243)"
        },
        "margin": {
         "r": 0,
         "t": 0,
         "l": 0,
         "b": 0
        },
        "title": {
         "text": "Real-Time Flight Positions"
        }
       },
       "config": {
        "plotlyServerURL": "https://plot.ly"
       }
      },
      "text/html": "<div>                            <div id=\"d043bef8-100e-412c-82bc-c2cc3ccdc03c\" class=\"plotly-graph-div\" style=\"height:525px; width:100%;\"></div>            <script type=\"text/javascript\">                require([\"plotly\"], function(Plotly) {                    window.PLOTLYENV=window.PLOTLYENV || {};                                    if (document.getElementById(\"d043bef8-100e-412c-82bc-c2cc3ccdc03c\")) {                    Plotly.newPlot(                        \"d043bef8-100e-412c-82bc-c2cc3ccdc03c\",                        [{\"lat\":[52.5794,55.219,50.877,52.175,49.3355,51.0455,48.3575,43.692,52.3614,50.8645,52.3622,55.6263,45.6291,57.0433,47.7909,51.2875,48.991,52.3653,33.655,52.2708],\"lon\":[13.8367,16.536,7.1221,8.1319,12.9361,10.695,11.794,24.6531,13.5129,11.0222,13.5072,16.9279,10.3811,18.3999,12.9995,6.55,102.534,13.5027,45.3776,13.0608],\"marker\":{\"color\":\"blue\",\"line\":{\"color\":\"rgb(40,40,40)\",\"width\":0.5},\"size\":10,\"sizemode\":\"diameter\"},\"text\":[\"A3823\",\"BT214\",\"EW5221\",\"BA995\",\"LH1953\",\"LH201\",\"LH1949\",\"FH1282\",\"IB3671\",\"FR226\",\"OS236\",\"FR2732\",\"FR3311\",\"AY1436\",\"EW4343\",\"EW9041\",\"HU490\",\"LX983\",\"QR82\",\"DX126\"],\"type\":\"scattergeo\"}],                        {\"template\":{\"data\":{\"histogram2dcontour\":[{\"type\":\"histogram2dcontour\",\"colorbar\":{\"outlinewidth\":0,\"ticks\":\"\"},\"colorscale\":[[0.0,\"#0d0887\"],[0.1111111111111111,\"#46039f\"],[0.2222222222222222,\"#7201a8\"],[0.3333333333333333,\"#9c179e\"],[0.4444444444444444,\"#bd3786\"],[0.5555555555555556,\"#d8576b\"],[0.6666666666666666,\"#ed7953\"],[0.7777777777777778,\"#fb9f3a\"],[0.8888888888888888,\"#fdca26\"],[1.0,\"#f0f921\"]]}],\"choropleth\":[{\"type\":\"choropleth\",\"colorbar\":{\"outlinewidth\":0,\"ticks\":\"\"}}],\"histogram2d\":[{\"type\":\"histogram2d\",\"colorbar\":{\"outlinewidth\":0,\"ticks\":\"\"},\"colorscale\":[[0.0,\"#0d0887\"],[0.1111111111111111,\"#46039f\"],[0.2222222222222222,\"#7201a8\"],[0.3333333333333333,\"#9c179e\"],[0.4444444444444444,\"#bd3786\"],[0.5555555555555556,\"#d8576b\"],[0.6666666666666666,\"#ed7953\"],[0.7777777777777778,\"#fb9f3a\"],[0.8888888888888888,\"#fdca26\"],[1.0,\"#f0f921\"]]}],\"heatmap\":[{\"type\":\"heatmap\",\"colorbar\":{\"outlinewidth\":0,\"ticks\":\"\"},\"colorscale\":[[0.0,\"#0d0887\"],[0.1111111111111111,\"#46039f\"],[0.2222222222222222,\"#7201a8\"],[0.3333333333333333,\"#9c179e\"],[0.4444444444444444,\"#bd3786\"],[0.5555555555555556,\"#d8576b\"],[0.6666666666666666,\"#ed7953\"],[0.7777777777777778,\"#fb9f3a\"],[0.8888888888888888,\"#fdca26\"],[1.0,\"#f0f921\"]]}],\"heatmapgl\":[{\"type\":\"heatmapgl\",\"colorbar\":{\"outlinewidth\":0,\"ticks\":\"\"},\"colorscale\":[[0.0,\"#0d0887\"],[0.1111111111111111,\"#46039f\"],[0.2222222222222222,\"#7201a8\"],[0.3333333333333333,\"#9c179e\"],[0.4444444444444444,\"#bd3786\"],[0.5555555555555556,\"#d8576b\"],[0.6666666666666666,\"#ed7953\"],[0.7777777777777778,\"#fb9f3a\"],[0.8888888888888888,\"#fdca26\"],[1.0,\"#f0f921\"]]}],\"contourcarpet\":[{\"type\":\"contourcarpet\",\"colorbar\":{\"outlinewidth\":0,\"ticks\":\"\"}}],\"contour\":[{\"type\":\"contour\",\"colorbar\":{\"outlinewidth\":0,\"ticks\":\"\"},\"colorscale\":[[0.0,\"#0d0887\"],[0.1111111111111111,\"#46039f\"],[0.2222222222222222,\"#7201a8\"],[0.3333333333333333,\"#9c179e\"],[0.4444444444444444,\"#bd3786\"],[0.5555555555555556,\"#d8576b\"],[0.6666666666666666,\"#ed7953\"],[0.7777777777777778,\"#fb9f3a\"],[0.8888888888888888,\"#fdca26\"],[1.0,\"#f0f921\"]]}],\"surface\":[{\"type\":\"surface\",\"colorbar\":{\"outlinewidth\":0,\"ticks\":\"\"},\"colorscale\":[[0.0,\"#0d0887\"],[0.1111111111111111,\"#46039f\"],[0.2222222222222222,\"#7201a8\"],[0.3333333333333333,\"#9c179e\"],[0.4444444444444444,\"#bd3786\"],[0.5555555555555556,\"#d8576b\"],[0.6666666666666666,\"#ed7953\"],[0.7777777777777778,\"#fb9f3a\"],[0.8888888888888888,\"#fdca26\"],[1.0,\"#f0f921\"]]}],\"mesh3d\":[{\"type\":\"mesh3d\",\"colorbar\":{\"outlinewidth\":0,\"ticks\":\"\"}}],\"scatter\":[{\"marker\":{\"line\":{\"color\":\"#283442\"}},\"type\":\"scatter\"}],\"parcoords\":[{\"type\":\"parcoords\",\"line\":{\"colorbar\":{\"outlinewidth\":0,\"ticks\":\"\"}}}],\"scatterpolargl\":[{\"type\":\"scatterpolargl\",\"marker\":{\"colorbar\":{\"outlinewidth\":0,\"ticks\":\"\"}}}],\"bar\":[{\"error_x\":{\"color\":\"#f2f5fa\"},\"error_y\":{\"color\":\"#f2f5fa\"},\"marker\":{\"line\":{\"color\":\"rgb(17,17,17)\",\"width\":0.5},\"pattern\":{\"fillmode\":\"overlay\",\"size\":10,\"solidity\":0.2}},\"type\":\"bar\"}],\"scattergeo\":[{\"type\":\"scattergeo\",\"marker\":{\"colorbar\":{\"outlinewidth\":0,\"ticks\":\"\"}}}],\"scatterpolar\":[{\"type\":\"scatterpolar\",\"marker\":{\"colorbar\":{\"outlinewidth\":0,\"ticks\":\"\"}}}],\"histogram\":[{\"marker\":{\"pattern\":{\"fillmode\":\"overlay\",\"size\":10,\"solidity\":0.2}},\"type\":\"histogram\"}],\"scattergl\":[{\"marker\":{\"line\":{\"color\":\"#283442\"}},\"type\":\"scattergl\"}],\"scatter3d\":[{\"type\":\"scatter3d\",\"line\":{\"colorbar\":{\"outlinewidth\":0,\"ticks\":\"\"}},\"marker\":{\"colorbar\":{\"outlinewidth\":0,\"ticks\":\"\"}}}],\"scattermapbox\":[{\"type\":\"scattermapbox\",\"marker\":{\"colorbar\":{\"outlinewidth\":0,\"ticks\":\"\"}}}],\"scatterternary\":[{\"type\":\"scatterternary\",\"marker\":{\"colorbar\":{\"outlinewidth\":0,\"ticks\":\"\"}}}],\"scattercarpet\":[{\"type\":\"scattercarpet\",\"marker\":{\"colorbar\":{\"outlinewidth\":0,\"ticks\":\"\"}}}],\"carpet\":[{\"aaxis\":{\"endlinecolor\":\"#A2B1C6\",\"gridcolor\":\"#506784\",\"linecolor\":\"#506784\",\"minorgridcolor\":\"#506784\",\"startlinecolor\":\"#A2B1C6\"},\"baxis\":{\"endlinecolor\":\"#A2B1C6\",\"gridcolor\":\"#506784\",\"linecolor\":\"#506784\",\"minorgridcolor\":\"#506784\",\"startlinecolor\":\"#A2B1C6\"},\"type\":\"carpet\"}],\"table\":[{\"cells\":{\"fill\":{\"color\":\"#506784\"},\"line\":{\"color\":\"rgb(17,17,17)\"}},\"header\":{\"fill\":{\"color\":\"#2a3f5f\"},\"line\":{\"color\":\"rgb(17,17,17)\"}},\"type\":\"table\"}],\"barpolar\":[{\"marker\":{\"line\":{\"color\":\"rgb(17,17,17)\",\"width\":0.5},\"pattern\":{\"fillmode\":\"overlay\",\"size\":10,\"solidity\":0.2}},\"type\":\"barpolar\"}],\"pie\":[{\"automargin\":true,\"type\":\"pie\"}]},\"layout\":{\"autotypenumbers\":\"strict\",\"colorway\":[\"#636efa\",\"#EF553B\",\"#00cc96\",\"#ab63fa\",\"#FFA15A\",\"#19d3f3\",\"#FF6692\",\"#B6E880\",\"#FF97FF\",\"#FECB52\"],\"font\":{\"color\":\"#f2f5fa\"},\"hovermode\":\"closest\",\"hoverlabel\":{\"align\":\"left\"},\"paper_bgcolor\":\"rgb(17,17,17)\",\"plot_bgcolor\":\"rgb(17,17,17)\",\"polar\":{\"bgcolor\":\"rgb(17,17,17)\",\"angularaxis\":{\"gridcolor\":\"#506784\",\"linecolor\":\"#506784\",\"ticks\":\"\"},\"radialaxis\":{\"gridcolor\":\"#506784\",\"linecolor\":\"#506784\",\"ticks\":\"\"}},\"ternary\":{\"bgcolor\":\"rgb(17,17,17)\",\"aaxis\":{\"gridcolor\":\"#506784\",\"linecolor\":\"#506784\",\"ticks\":\"\"},\"baxis\":{\"gridcolor\":\"#506784\",\"linecolor\":\"#506784\",\"ticks\":\"\"},\"caxis\":{\"gridcolor\":\"#506784\",\"linecolor\":\"#506784\",\"ticks\":\"\"}},\"coloraxis\":{\"colorbar\":{\"outlinewidth\":0,\"ticks\":\"\"}},\"colorscale\":{\"sequential\":[[0.0,\"#0d0887\"],[0.1111111111111111,\"#46039f\"],[0.2222222222222222,\"#7201a8\"],[0.3333333333333333,\"#9c179e\"],[0.4444444444444444,\"#bd3786\"],[0.5555555555555556,\"#d8576b\"],[0.6666666666666666,\"#ed7953\"],[0.7777777777777778,\"#fb9f3a\"],[0.8888888888888888,\"#fdca26\"],[1.0,\"#f0f921\"]],\"sequentialminus\":[[0.0,\"#0d0887\"],[0.1111111111111111,\"#46039f\"],[0.2222222222222222,\"#7201a8\"],[0.3333333333333333,\"#9c179e\"],[0.4444444444444444,\"#bd3786\"],[0.5555555555555556,\"#d8576b\"],[0.6666666666666666,\"#ed7953\"],[0.7777777777777778,\"#fb9f3a\"],[0.8888888888888888,\"#fdca26\"],[1.0,\"#f0f921\"]],\"diverging\":[[0,\"#8e0152\"],[0.1,\"#c51b7d\"],[0.2,\"#de77ae\"],[0.3,\"#f1b6da\"],[0.4,\"#fde0ef\"],[0.5,\"#f7f7f7\"],[0.6,\"#e6f5d0\"],[0.7,\"#b8e186\"],[0.8,\"#7fbc41\"],[0.9,\"#4d9221\"],[1,\"#276419\"]]},\"xaxis\":{\"gridcolor\":\"#283442\",\"linecolor\":\"#506784\",\"ticks\":\"\",\"title\":{\"standoff\":15},\"zerolinecolor\":\"#283442\",\"automargin\":true,\"zerolinewidth\":2},\"yaxis\":{\"gridcolor\":\"#283442\",\"linecolor\":\"#506784\",\"ticks\":\"\",\"title\":{\"standoff\":15},\"zerolinecolor\":\"#283442\",\"automargin\":true,\"zerolinewidth\":2},\"scene\":{\"xaxis\":{\"backgroundcolor\":\"rgb(17,17,17)\",\"gridcolor\":\"#506784\",\"linecolor\":\"#506784\",\"showbackground\":true,\"ticks\":\"\",\"zerolinecolor\":\"#C8D4E3\",\"gridwidth\":2},\"yaxis\":{\"backgroundcolor\":\"rgb(17,17,17)\",\"gridcolor\":\"#506784\",\"linecolor\":\"#506784\",\"showbackground\":true,\"ticks\":\"\",\"zerolinecolor\":\"#C8D4E3\",\"gridwidth\":2},\"zaxis\":{\"backgroundcolor\":\"rgb(17,17,17)\",\"gridcolor\":\"#506784\",\"linecolor\":\"#506784\",\"showbackground\":true,\"ticks\":\"\",\"zerolinecolor\":\"#C8D4E3\",\"gridwidth\":2}},\"shapedefaults\":{\"line\":{\"color\":\"#f2f5fa\"}},\"annotationdefaults\":{\"arrowcolor\":\"#f2f5fa\",\"arrowhead\":0,\"arrowwidth\":1},\"geo\":{\"bgcolor\":\"rgb(17,17,17)\",\"landcolor\":\"rgb(17,17,17)\",\"subunitcolor\":\"#506784\",\"showland\":true,\"showlakes\":true,\"lakecolor\":\"rgb(17,17,17)\"},\"title\":{\"x\":0.05},\"updatemenudefaults\":{\"bgcolor\":\"#506784\",\"borderwidth\":0},\"sliderdefaults\":{\"bgcolor\":\"#C8D4E3\",\"borderwidth\":1,\"bordercolor\":\"rgb(17,17,17)\",\"tickwidth\":0},\"mapbox\":{\"style\":\"dark\"}}},\"geo\":{\"projection\":{\"type\":\"orthographic\"},\"visible\":true,\"scope\":\"europe\",\"showcountries\":true,\"countrycolor\":\"Black\",\"showsubunits\":true,\"subunitcolor\":\"Blue\",\"showland\":true,\"landcolor\":\"rgb(243, 243, 243)\"},\"margin\":{\"r\":0,\"t\":0,\"l\":0,\"b\":0},\"title\":{\"text\":\"Real-Time Flight Positions\"}},                        {\"responsive\": true}                    ).then(function(){\n                            \nvar gd = document.getElementById('d043bef8-100e-412c-82bc-c2cc3ccdc03c');\nvar x = new MutationObserver(function (mutations, observer) {{\n        var display = window.getComputedStyle(gd).display;\n        if (!display || display === 'none') {{\n            console.log([gd, 'removed!']);\n            Plotly.purge(gd);\n            observer.disconnect();\n        }}\n}});\n\n// Listen for the removal of the full notebook cells\nvar notebookContainer = gd.closest('#notebook-container');\nif (notebookContainer) {{\n    x.observe(notebookContainer, {childList: true});\n}}\n\n// Listen for the clearing of the current output cell\nvar outputEl = gd.closest('.output');\nif (outputEl) {{\n    x.observe(outputEl, {childList: true});\n}}\n\n                        })                };                });            </script>        </div>"
     },
     "metadata": {},
     "output_type": "display_data"
    }
   ],
   "source": [
    "update_flight()"
   ],
   "metadata": {
    "collapsed": false,
    "ExecuteTime": {
     "end_time": "2024-05-30T09:21:18.541210Z",
     "start_time": "2024-05-30T09:21:18.501209800Z"
    }
   }
  },
  {
   "cell_type": "code",
   "execution_count": 13,
   "outputs": [],
   "source": [
    "class Aircraft(BaseModel):\n",
    "    iataCode: str\n",
    "    icao24: str\n",
    "    icaoCode: str\n",
    "    regKey: str\n",
    "\n",
    "class Airline(BaseModel):\n",
    "    iataCode: str\n",
    "    icaoCode: str\n",
    "\n",
    "class Airport(BaseModel):\n",
    "    iata2Code: str\n",
    "    icao2Code: str\n",
    "\n",
    "class FlightInfo(BaseModel):\n",
    "    iataNumber: str\n",
    "    icaoNumber: str\n",
    "    number: str\n",
    "\n",
    "class Geography(BaseModel):\n",
    "    altitude: float\n",
    "    direction: int\n",
    "    latitude: float\n",
    "    longitude: float\n",
    "\n",
    "class Speed(BaseModel):\n",
    "    horizontal: float\n",
    "    isGround: int\n",
    "    vspeed: int\n",
    "\n",
    "class System(BaseModel):\n",
    "    squawk: Optional[str]\n",
    "    updated: int\n",
    "\n",
    "class FlightData(BaseModel):\n",
    "    aircraft: Aircraft\n",
    "    airline: Airline\n",
    "    arrival: Airport\n",
    "    departure: Airport\n",
    "    flight: FlightInfo\n",
    "    geography: Geography\n",
    "    speed: Speed\n",
    "    status: str\n",
    "    system: System"
   ],
   "metadata": {
    "collapsed": false,
    "ExecuteTime": {
     "end_time": "2024-05-24T19:54:47.060958400Z",
     "start_time": "2024-05-24T19:54:46.860961700Z"
    }
   }
  },
  {
   "cell_type": "code",
   "execution_count": 27,
   "outputs": [],
   "source": [
    "def read_airport_codes(filepath: str) -> dict:\n",
    "    try:\n",
    "        with open(filepath, 'r') as file:\n",
    "            data = json.load(file)\n",
    "            if isinstance(data, dict):  # Validate that the data is a dictionary\n",
    "                return data  # Return the entire dictionary\n",
    "            else:\n",
    "                logging.error(\"Invalid data format: Expected a dictionary\")\n",
    "                return {}  # Return an empty dictionary if the format is incorrect\n",
    "    except FileNotFoundError:\n",
    "        logging.error(f\"File not found: that full dictionary can be queried for any property of an airport using its IATA code as the key.filepath\")\n",
    "        return {}\n",
    "    except json.JSONError:\n",
    "        logging.error(\"Error decoding JSON\")\n",
    "        return {}"
   ],
   "metadata": {
    "collapsed": false,
    "ExecuteTime": {
     "end_time": "2024-05-24T20:01:40.320951200Z",
     "start_time": "2024-05-24T20:01:40.284923800Z"
    }
   }
  },
  {
   "cell_type": "code",
   "execution_count": 37,
   "outputs": [],
   "source": [
    "# def fetch_flight_data(api_key: str, depIata: str) -> List[FlightData]:\n",
    "#     url = f\"https://aviation-edge.com/v2/public/flights?key={api_key}&depIata={depIata}&status=en-route&limit=1000\"\n",
    "#     response = requests.get(url)\n",
    "#     if response.status_code == 200:\n",
    "#         return parse_obj_as(List[FlightData], response.json())\n",
    "#     else:\n",
    "#         return []"
   ],
   "metadata": {
    "collapsed": false,
    "ExecuteTime": {
     "end_time": "2024-05-30T08:22:24.269734900Z",
     "start_time": "2024-05-30T08:22:24.235736900Z"
    }
   }
  },
  {
   "cell_type": "code",
   "execution_count": 17,
   "outputs": [],
   "source": [
    "def get_airport_details(code_iata_airport: str, api_key: str) -> dict:\n",
    "    url = f\"https://aviation-edge.com/v2/public/airportDatabase?codeIataAirport={code_iata_airport}&key={api_key}\"\n",
    "    response = requests.get(url)\n",
    "    if response.status_code == 200:\n",
    "        return response.json()[0]  # Assuming the response is a list with a single dict\n",
    "    else:\n",
    "        return {}"
   ],
   "metadata": {
    "collapsed": false,
    "ExecuteTime": {
     "end_time": "2024-05-24T19:56:13.684898700Z",
     "start_time": "2024-05-24T19:56:13.622861300Z"
    }
   }
  },
  {
   "cell_type": "code",
   "execution_count": 31,
   "outputs": [],
   "source": [
    "def main():\n",
    "    api_key = '3ca751-a926dd'\n",
    "    airports_filepath = 'airports.txt'\n",
    "    known_airports = read_airport_codes(airports_filepath)\n",
    "    new_airport_details = []\n",
    "\n",
    "    flights = fetch_flight_data()\n",
    "    for flight in flights:\n",
    "        if flight.departure.iata2Code not in known_airports:\n",
    "            new_airport_details.append(get_airport_details(flight.departure.iata2Code, api_key))\n",
    "        if flight.arrival.iata2Code not in known_airports:\n",
    "            new_airport_details.append(get_airport_details(flight.arrival.iata2Code, api_key))\n",
    "\n",
    "    # Save new airport details to file\n",
    "    with open('new_airports.json', 'w') as file:\n",
    "        json.dump(new_airport_details, file, indent=4)"
   ],
   "metadata": {
    "collapsed": false,
    "ExecuteTime": {
     "end_time": "2024-05-24T20:02:39.093899200Z",
     "start_time": "2024-05-24T20:02:39.058863900Z"
    }
   }
  },
  {
   "cell_type": "code",
   "execution_count": 34,
   "outputs": [
    {
     "data": {
      "text/plain": "{'BER': {'GMT': None,\n  'airportId': 10054,\n  'codeIataAirport': 'BER',\n  'codeIataCity': 'SXF',\n  'codeIcaoAirport': 'EDDB',\n  'codeIso2Country': 'DE',\n  'geonameId': None,\n  'latitudeAirport': 52.3667,\n  'longitudeAirport': 13.502,\n  'nameAirport': 'Berlin Brandenburg Airport',\n  'nameCountry': 'Berlin',\n  'phone': '+49 30 6091 6091 0',\n  'timezone': '+1'}}"
     },
     "execution_count": 34,
     "metadata": {},
     "output_type": "execute_result"
    }
   ],
   "source": [
    "read_airport_codes(\"cache_cities.json\")"
   ],
   "metadata": {
    "collapsed": false,
    "ExecuteTime": {
     "end_time": "2024-05-24T20:03:24.361547600Z",
     "start_time": "2024-05-24T20:03:24.324514300Z"
    }
   }
  },
  {
   "cell_type": "code",
   "execution_count": 45,
   "outputs": [
    {
     "name": "stdout",
     "output_type": "stream",
     "text": [
      "BER\n",
      "ATH\n",
      "BER\n",
      "RIX\n",
      "BER\n",
      "CGN\n",
      "BER\n",
      "LHR\n",
      "BER\n",
      "MUC\n",
      "BER\n",
      "FRA\n",
      "BER\n",
      "MUC\n",
      "BER\n",
      "AYT\n",
      "BER\n",
      "MAD\n",
      "BER\n",
      "PMI\n",
      "BER\n",
      "VIE\n",
      "BER\n",
      "TLL\n",
      "BER\n",
      "BGY\n",
      "BER\n",
      "HEL\n",
      "BER\n",
      "SZG\n",
      "BER\n",
      "DUS\n",
      "BER\n",
      "PEK\n",
      "BER\n",
      "ZRH\n",
      "BER\n",
      "DOH\n",
      "BER\n",
      "SCN\n"
     ]
    }
   ],
   "source": [
    "flights = fetch_flight_data()\n",
    "for flight in flights:\n",
    "    print(flight['departure']['iataCode'])\n",
    "    print(flight['arrival']['iataCode'])\n",
    "    if flight.departure.iata2Code not in known_airports:\n",
    "        new_airport_details.append(get_airport_details(flight.departure.iata2Code, api_key))\n",
    "    if flight.arrival.iata2Code not in known_airports:\n",
    "        new_airport_details.append(get_airport_details(flight.arrival.iata2Code, api_key))"
   ],
   "metadata": {
    "collapsed": false,
    "ExecuteTime": {
     "end_time": "2024-05-30T08:27:01.509921Z",
     "start_time": "2024-05-30T08:27:01.460920700Z"
    }
   }
  },
  {
   "cell_type": "code",
   "execution_count": 48,
   "outputs": [],
   "source": [
    "ath_arp = get_airport_details('ATH', '3ca751-a926dd')"
   ],
   "metadata": {
    "collapsed": false,
    "ExecuteTime": {
     "end_time": "2024-05-30T08:31:39.160285600Z",
     "start_time": "2024-05-30T08:31:38.438287600Z"
    }
   }
  },
  {
   "cell_type": "code",
   "execution_count": 51,
   "outputs": [],
   "source": [
    "known_airports = read_airport_codes(\"cache_cities.json\")"
   ],
   "metadata": {
    "collapsed": false,
    "ExecuteTime": {
     "end_time": "2024-05-30T08:32:34.323319200Z",
     "start_time": "2024-05-30T08:32:34.311319800Z"
    }
   }
  },
  {
   "cell_type": "code",
   "execution_count": 53,
   "outputs": [
    {
     "data": {
      "text/plain": "True"
     },
     "execution_count": 53,
     "metadata": {},
     "output_type": "execute_result"
    }
   ],
   "source": [
    "'ATH' in known_airports"
   ],
   "metadata": {
    "collapsed": false,
    "ExecuteTime": {
     "end_time": "2024-05-30T08:32:39.194065Z",
     "start_time": "2024-05-30T08:32:39.148036700Z"
    }
   }
  },
  {
   "cell_type": "code",
   "execution_count": 54,
   "outputs": [
    {
     "data": {
      "text/plain": "'ATH'"
     },
     "execution_count": 54,
     "metadata": {},
     "output_type": "execute_result"
    }
   ],
   "source": [
    "ath_arp[\"codeIataAirport\"]"
   ],
   "metadata": {
    "collapsed": false,
    "ExecuteTime": {
     "end_time": "2024-05-30T08:36:15.742027700Z",
     "start_time": "2024-05-30T08:36:15.664027700Z"
    }
   }
  },
  {
   "cell_type": "code",
   "execution_count": 55,
   "outputs": [],
   "source": [
    "known_airports[ath_arp[\"codeIataAirport\"]] = ath_arp"
   ],
   "metadata": {
    "collapsed": false,
    "ExecuteTime": {
     "end_time": "2024-05-30T08:36:28.783038100Z",
     "start_time": "2024-05-30T08:36:28.708037700Z"
    }
   }
  },
  {
   "cell_type": "code",
   "execution_count": 56,
   "outputs": [
    {
     "data": {
      "text/plain": "{'BER': {'GMT': None,\n  'airportId': 10054,\n  'codeIataAirport': 'BER',\n  'codeIataCity': 'SXF',\n  'codeIcaoAirport': 'EDDB',\n  'codeIso2Country': 'DE',\n  'geonameId': None,\n  'latitudeAirport': 52.3667,\n  'longitudeAirport': 13.502,\n  'nameAirport': 'Berlin Brandenburg Airport',\n  'nameCountry': 'Berlin',\n  'phone': '+49 30 6091 6091 0',\n  'timezone': '+1'},\n 'ATH': {'GMT': '2',\n  'airportId': 407,\n  'codeIataAirport': 'ATH',\n  'codeIataCity': 'ATH',\n  'codeIcaoAirport': 'LGAV',\n  'codeIso2Country': 'GR',\n  'geonameId': '6299484',\n  'latitudeAirport': 37.93635,\n  'longitudeAirport': 23.946486,\n  'nameAirport': 'Athens International Airport \"Eleftherios Venizelos\"',\n  'nameCountry': 'Greece',\n  'phone': '+30 210-35300',\n  'timezone': 'Europe/Athens'}}"
     },
     "execution_count": 56,
     "metadata": {},
     "output_type": "execute_result"
    }
   ],
   "source": [
    "known_airports"
   ],
   "metadata": {
    "collapsed": false,
    "ExecuteTime": {
     "end_time": "2024-05-30T08:36:31.436820500Z",
     "start_time": "2024-05-30T08:36:31.353821900Z"
    }
   }
  },
  {
   "cell_type": "code",
   "execution_count": 58,
   "outputs": [],
   "source": [
    "with open(\"cache_cities.json\", 'w') as file:\n",
    "        json.dump(known_airports, file, indent=4)"
   ],
   "metadata": {
    "collapsed": false,
    "ExecuteTime": {
     "end_time": "2024-05-30T08:37:19.395988700Z",
     "start_time": "2024-05-30T08:37:19.358950200Z"
    }
   }
  },
  {
   "cell_type": "code",
   "execution_count": null,
   "outputs": [],
   "source": [],
   "metadata": {
    "collapsed": false
   }
  }
 ],
 "metadata": {
  "kernelspec": {
   "display_name": "Python 3",
   "language": "python",
   "name": "python3"
  },
  "language_info": {
   "codemirror_mode": {
    "name": "ipython",
    "version": 2
   },
   "file_extension": ".py",
   "mimetype": "text/x-python",
   "name": "python",
   "nbconvert_exporter": "python",
   "pygments_lexer": "ipython2",
   "version": "2.7.6"
  }
 },
 "nbformat": 4,
 "nbformat_minor": 0
}
